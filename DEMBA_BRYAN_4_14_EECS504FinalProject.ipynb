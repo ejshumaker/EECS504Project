{
  "nbformat": 4,
  "nbformat_minor": 0,
  "metadata": {
    "colab": {
      "name": "DEMBA_BRYAN_4-14 EECS504FinalProject",
      "provenance": [],
      "collapsed_sections": []
    },
    "kernelspec": {
      "name": "python3",
      "display_name": "Python 3"
    },
    "accelerator": "GPU",
    "widgets": {
      "application/vnd.jupyter.widget-state+json": {
        "3961a2a31b364869ab6c3f601a134d6c": {
          "model_module": "@jupyter-widgets/controls",
          "model_name": "HBoxModel",
          "state": {
            "_view_name": "HBoxView",
            "_dom_classes": [],
            "_model_name": "HBoxModel",
            "_view_module": "@jupyter-widgets/controls",
            "_model_module_version": "1.5.0",
            "_view_count": null,
            "_view_module_version": "1.5.0",
            "box_style": "",
            "layout": "IPY_MODEL_c6a7abd13f054128b0b540dbf942f3a6",
            "_model_module": "@jupyter-widgets/controls",
            "children": [
              "IPY_MODEL_e0d61a2464e346248a42c9d47934fb98",
              "IPY_MODEL_471d46795a7d487397adc5d8e5efb2a5"
            ]
          }
        },
        "c6a7abd13f054128b0b540dbf942f3a6": {
          "model_module": "@jupyter-widgets/base",
          "model_name": "LayoutModel",
          "state": {
            "_view_name": "LayoutView",
            "grid_template_rows": null,
            "right": null,
            "justify_content": null,
            "_view_module": "@jupyter-widgets/base",
            "overflow": null,
            "_model_module_version": "1.2.0",
            "_view_count": null,
            "flex_flow": null,
            "width": null,
            "min_width": null,
            "border": null,
            "align_items": null,
            "bottom": null,
            "_model_module": "@jupyter-widgets/base",
            "top": null,
            "grid_column": null,
            "overflow_y": null,
            "overflow_x": null,
            "grid_auto_flow": null,
            "grid_area": null,
            "grid_template_columns": null,
            "flex": null,
            "_model_name": "LayoutModel",
            "justify_items": null,
            "grid_row": null,
            "max_height": null,
            "align_content": null,
            "visibility": null,
            "align_self": null,
            "height": null,
            "min_height": null,
            "padding": null,
            "grid_auto_rows": null,
            "grid_gap": null,
            "max_width": null,
            "order": null,
            "_view_module_version": "1.2.0",
            "grid_template_areas": null,
            "object_position": null,
            "object_fit": null,
            "grid_auto_columns": null,
            "margin": null,
            "display": null,
            "left": null
          }
        },
        "e0d61a2464e346248a42c9d47934fb98": {
          "model_module": "@jupyter-widgets/controls",
          "model_name": "IntProgressModel",
          "state": {
            "_view_name": "ProgressView",
            "style": "IPY_MODEL_003065512b8b49c2b0f6bdd81dba439a",
            "_dom_classes": [],
            "description": "100%",
            "_model_name": "IntProgressModel",
            "bar_style": "success",
            "max": 87306240,
            "_view_module": "@jupyter-widgets/controls",
            "_model_module_version": "1.5.0",
            "value": 87306240,
            "_view_count": null,
            "_view_module_version": "1.5.0",
            "orientation": "horizontal",
            "min": 0,
            "description_tooltip": null,
            "_model_module": "@jupyter-widgets/controls",
            "layout": "IPY_MODEL_daabce2053994730b2efa23e0e2b52ff"
          }
        },
        "471d46795a7d487397adc5d8e5efb2a5": {
          "model_module": "@jupyter-widgets/controls",
          "model_name": "HTMLModel",
          "state": {
            "_view_name": "HTMLView",
            "style": "IPY_MODEL_75106bccfb884ced97a1b484d921c72a",
            "_dom_classes": [],
            "description": "",
            "_model_name": "HTMLModel",
            "placeholder": "​",
            "_view_module": "@jupyter-widgets/controls",
            "_model_module_version": "1.5.0",
            "value": " 83.3M/83.3M [02:14&lt;00:00, 650kB/s]",
            "_view_count": null,
            "_view_module_version": "1.5.0",
            "description_tooltip": null,
            "_model_module": "@jupyter-widgets/controls",
            "layout": "IPY_MODEL_b88bc8e56b0f408ca2097a82512d8791"
          }
        },
        "003065512b8b49c2b0f6bdd81dba439a": {
          "model_module": "@jupyter-widgets/controls",
          "model_name": "ProgressStyleModel",
          "state": {
            "_view_name": "StyleView",
            "_model_name": "ProgressStyleModel",
            "description_width": "initial",
            "_view_module": "@jupyter-widgets/base",
            "_model_module_version": "1.5.0",
            "_view_count": null,
            "_view_module_version": "1.2.0",
            "bar_color": null,
            "_model_module": "@jupyter-widgets/controls"
          }
        },
        "daabce2053994730b2efa23e0e2b52ff": {
          "model_module": "@jupyter-widgets/base",
          "model_name": "LayoutModel",
          "state": {
            "_view_name": "LayoutView",
            "grid_template_rows": null,
            "right": null,
            "justify_content": null,
            "_view_module": "@jupyter-widgets/base",
            "overflow": null,
            "_model_module_version": "1.2.0",
            "_view_count": null,
            "flex_flow": null,
            "width": null,
            "min_width": null,
            "border": null,
            "align_items": null,
            "bottom": null,
            "_model_module": "@jupyter-widgets/base",
            "top": null,
            "grid_column": null,
            "overflow_y": null,
            "overflow_x": null,
            "grid_auto_flow": null,
            "grid_area": null,
            "grid_template_columns": null,
            "flex": null,
            "_model_name": "LayoutModel",
            "justify_items": null,
            "grid_row": null,
            "max_height": null,
            "align_content": null,
            "visibility": null,
            "align_self": null,
            "height": null,
            "min_height": null,
            "padding": null,
            "grid_auto_rows": null,
            "grid_gap": null,
            "max_width": null,
            "order": null,
            "_view_module_version": "1.2.0",
            "grid_template_areas": null,
            "object_position": null,
            "object_fit": null,
            "grid_auto_columns": null,
            "margin": null,
            "display": null,
            "left": null
          }
        },
        "75106bccfb884ced97a1b484d921c72a": {
          "model_module": "@jupyter-widgets/controls",
          "model_name": "DescriptionStyleModel",
          "state": {
            "_view_name": "StyleView",
            "_model_name": "DescriptionStyleModel",
            "description_width": "",
            "_view_module": "@jupyter-widgets/base",
            "_model_module_version": "1.5.0",
            "_view_count": null,
            "_view_module_version": "1.2.0",
            "_model_module": "@jupyter-widgets/controls"
          }
        },
        "b88bc8e56b0f408ca2097a82512d8791": {
          "model_module": "@jupyter-widgets/base",
          "model_name": "LayoutModel",
          "state": {
            "_view_name": "LayoutView",
            "grid_template_rows": null,
            "right": null,
            "justify_content": null,
            "_view_module": "@jupyter-widgets/base",
            "overflow": null,
            "_model_module_version": "1.2.0",
            "_view_count": null,
            "flex_flow": null,
            "width": null,
            "min_width": null,
            "border": null,
            "align_items": null,
            "bottom": null,
            "_model_module": "@jupyter-widgets/base",
            "top": null,
            "grid_column": null,
            "overflow_y": null,
            "overflow_x": null,
            "grid_auto_flow": null,
            "grid_area": null,
            "grid_template_columns": null,
            "flex": null,
            "_model_name": "LayoutModel",
            "justify_items": null,
            "grid_row": null,
            "max_height": null,
            "align_content": null,
            "visibility": null,
            "align_self": null,
            "height": null,
            "min_height": null,
            "padding": null,
            "grid_auto_rows": null,
            "grid_gap": null,
            "max_width": null,
            "order": null,
            "_view_module_version": "1.2.0",
            "grid_template_areas": null,
            "object_position": null,
            "object_fit": null,
            "grid_auto_columns": null,
            "margin": null,
            "display": null,
            "left": null
          }
        }
      }
    }
  },
  "cells": [
    {
      "cell_type": "markdown",
      "metadata": {
        "id": "ix5dQS2rUMlu",
        "colab_type": "text"
      },
      "source": [
        "#EECS 504 Final Project\n",
        "\n",
        "### Bryan Edwards, Demba Komma, Leah Wu, Eric Shumaker\n",
        "#### {bryaned, dbkomma, huiminwu, eshumake} @umich.edu\n"
      ]
    },
    {
      "cell_type": "markdown",
      "metadata": {
        "id": "W_Cst4k4tuBc",
        "colab_type": "text"
      },
      "source": [
        "# Starting\n"
      ]
    },
    {
      "cell_type": "code",
      "metadata": {
        "id": "SHumIO-xt57H",
        "colab_type": "code",
        "outputId": "6a6f9ae8-ef31-4ebb-cfc0-dc37617c3b72",
        "colab": {
          "base_uri": "https://localhost:8080/",
          "height": 68
        }
      },
      "source": [
        "import numpy as np\n",
        "import matplotlib.pyplot as plt\n",
        "\n",
        "import torch\n",
        "import torchvision\n",
        "from torchvision import datasets, models, transforms\n",
        "from torch.utils.data import DataLoader, Dataset, Subset\n",
        "import torch.nn as nn\n",
        "import torch.optim as optim\n",
        "from torch.autograd import Variable\n",
        "import torch.nn.functional as F\n",
        "from torchsummary import summary\n",
        "import cv2\n",
        "import os\n",
        "\n",
        "print(\"PyTorch Version: \",torch.__version__)\n",
        "print(\"Torchvision Version: \",torchvision.__version__)\n",
        "# Detect if we have a GPU available\n",
        "device = torch.device(\"cuda:0\" if torch.cuda.is_available() else \"cpu\")\n",
        "if torch.cuda.is_available():\n",
        "    print(\"Using the GPU!\")\n",
        "else:\n",
        "    print(\"WARNING: Could not find GPU! Using CPU only. If you want to enable GPU, please to go Edit > Notebook Settings > Hardware Accelerator and select GPU.\")\n",
        "\n"
      ],
      "execution_count": 0,
      "outputs": [
        {
          "output_type": "stream",
          "text": [
            "PyTorch Version:  1.4.0\n",
            "Torchvision Version:  0.5.0\n",
            "Using the GPU!\n"
          ],
          "name": "stdout"
        }
      ]
    },
    {
      "cell_type": "markdown",
      "metadata": {
        "colab_type": "text",
        "id": "Zm4Nd44KSW_h"
      },
      "source": [
        "## [1] Download Pascal VOC 2007 dataset.\n",
        "\n"
      ]
    },
    {
      "cell_type": "code",
      "metadata": {
        "id": "1Y9zlKJ5TiLs",
        "colab_type": "code",
        "outputId": "81a413b0-ebfb-4af3-c9c8-8f09f26f05bf",
        "colab": {
          "base_uri": "https://localhost:8080/",
          "height": 468
        }
      },
      "source": [
        "!wget https://pjreddie.com/media/files/VOCtrainval_06-Nov-2007.tar\n",
        "!tar -xf VOCtrainval_06-Nov-2007.tar"
      ],
      "execution_count": 0,
      "outputs": [
        {
          "output_type": "stream",
          "text": [
            "--2020-04-14 18:47:07--  https://pjreddie.com/media/files/VOCtrainval_06-Nov-2007.tar\n",
            "Resolving pjreddie.com (pjreddie.com)... 128.208.4.108\n",
            "Connecting to pjreddie.com (pjreddie.com)|128.208.4.108|:443... connected.\n",
            "HTTP request sent, awaiting response... 200 OK\n",
            "Length: 460032000 (439M) [application/octet-stream]\n",
            "Saving to: ‘VOCtrainval_06-Nov-2007.tar’\n",
            "\n",
            "al_06-Nov-2007.tar   37%[======>             ] 162.90M   237KB/s    eta 17m 52s"
          ],
          "name": "stdout"
        },
        {
          "output_type": "error",
          "ename": "KeyboardInterrupt",
          "evalue": "ignored",
          "traceback": [
            "\u001b[0;31m---------------------------------------------------------------------------\u001b[0m",
            "\u001b[0;31mKeyboardInterrupt\u001b[0m                         Traceback (most recent call last)",
            "\u001b[0;32m<ipython-input-3-cabd330a012c>\u001b[0m in \u001b[0;36m<module>\u001b[0;34m()\u001b[0m\n\u001b[0;32m----> 1\u001b[0;31m \u001b[0mget_ipython\u001b[0m\u001b[0;34m(\u001b[0m\u001b[0;34m)\u001b[0m\u001b[0;34m.\u001b[0m\u001b[0msystem\u001b[0m\u001b[0;34m(\u001b[0m\u001b[0;34m'wget https://pjreddie.com/media/files/VOCtrainval_06-Nov-2007.tar'\u001b[0m\u001b[0;34m)\u001b[0m\u001b[0;34m\u001b[0m\u001b[0;34m\u001b[0m\u001b[0m\n\u001b[0m\u001b[1;32m      2\u001b[0m \u001b[0mget_ipython\u001b[0m\u001b[0;34m(\u001b[0m\u001b[0;34m)\u001b[0m\u001b[0;34m.\u001b[0m\u001b[0msystem\u001b[0m\u001b[0;34m(\u001b[0m\u001b[0;34m'tar -xf VOCtrainval_06-Nov-2007.tar'\u001b[0m\u001b[0;34m)\u001b[0m\u001b[0;34m\u001b[0m\u001b[0;34m\u001b[0m\u001b[0m\n",
            "\u001b[0;32m/usr/local/lib/python3.6/dist-packages/google/colab/_shell.py\u001b[0m in \u001b[0;36msystem\u001b[0;34m(self, *args, **kwargs)\u001b[0m\n\u001b[1;32m     94\u001b[0m       \u001b[0mkwargs\u001b[0m\u001b[0;34m.\u001b[0m\u001b[0mupdate\u001b[0m\u001b[0;34m(\u001b[0m\u001b[0;34m{\u001b[0m\u001b[0;34m'also_return_output'\u001b[0m\u001b[0;34m:\u001b[0m \u001b[0;32mTrue\u001b[0m\u001b[0;34m}\u001b[0m\u001b[0;34m)\u001b[0m\u001b[0;34m\u001b[0m\u001b[0;34m\u001b[0m\u001b[0m\n\u001b[1;32m     95\u001b[0m \u001b[0;34m\u001b[0m\u001b[0m\n\u001b[0;32m---> 96\u001b[0;31m     \u001b[0moutput\u001b[0m \u001b[0;34m=\u001b[0m \u001b[0m_system_commands\u001b[0m\u001b[0;34m.\u001b[0m\u001b[0m_system_compat\u001b[0m\u001b[0;34m(\u001b[0m\u001b[0mself\u001b[0m\u001b[0;34m,\u001b[0m \u001b[0;34m*\u001b[0m\u001b[0margs\u001b[0m\u001b[0;34m,\u001b[0m \u001b[0;34m**\u001b[0m\u001b[0mkwargs\u001b[0m\u001b[0;34m)\u001b[0m  \u001b[0;31m# pylint:disable=protected-access\u001b[0m\u001b[0;34m\u001b[0m\u001b[0;34m\u001b[0m\u001b[0m\n\u001b[0m\u001b[1;32m     97\u001b[0m \u001b[0;34m\u001b[0m\u001b[0m\n\u001b[1;32m     98\u001b[0m     \u001b[0;32mif\u001b[0m \u001b[0mpip_warn\u001b[0m\u001b[0;34m:\u001b[0m\u001b[0;34m\u001b[0m\u001b[0;34m\u001b[0m\u001b[0m\n",
            "\u001b[0;32m/usr/local/lib/python3.6/dist-packages/google/colab/_system_commands.py\u001b[0m in \u001b[0;36m_system_compat\u001b[0;34m(shell, cmd, also_return_output)\u001b[0m\n\u001b[1;32m    436\u001b[0m   \u001b[0;31m# stack.\u001b[0m\u001b[0;34m\u001b[0m\u001b[0;34m\u001b[0m\u001b[0;34m\u001b[0m\u001b[0m\n\u001b[1;32m    437\u001b[0m   result = _run_command(\n\u001b[0;32m--> 438\u001b[0;31m       shell.var_expand(cmd, depth=2), clear_streamed_output=False)\n\u001b[0m\u001b[1;32m    439\u001b[0m   \u001b[0mshell\u001b[0m\u001b[0;34m.\u001b[0m\u001b[0muser_ns\u001b[0m\u001b[0;34m[\u001b[0m\u001b[0;34m'_exit_code'\u001b[0m\u001b[0;34m]\u001b[0m \u001b[0;34m=\u001b[0m \u001b[0mresult\u001b[0m\u001b[0;34m.\u001b[0m\u001b[0mreturncode\u001b[0m\u001b[0;34m\u001b[0m\u001b[0;34m\u001b[0m\u001b[0m\n\u001b[1;32m    440\u001b[0m   \u001b[0;32mif\u001b[0m \u001b[0;34m-\u001b[0m\u001b[0mresult\u001b[0m\u001b[0;34m.\u001b[0m\u001b[0mreturncode\u001b[0m \u001b[0;32min\u001b[0m \u001b[0m_INTERRUPTED_SIGNALS\u001b[0m\u001b[0;34m:\u001b[0m\u001b[0;34m\u001b[0m\u001b[0;34m\u001b[0m\u001b[0m\n",
            "\u001b[0;32m/usr/local/lib/python3.6/dist-packages/google/colab/_system_commands.py\u001b[0m in \u001b[0;36m_run_command\u001b[0;34m(cmd, clear_streamed_output)\u001b[0m\n\u001b[1;32m    193\u001b[0m       \u001b[0mos\u001b[0m\u001b[0;34m.\u001b[0m\u001b[0mclose\u001b[0m\u001b[0;34m(\u001b[0m\u001b[0mchild_pty\u001b[0m\u001b[0;34m)\u001b[0m\u001b[0;34m\u001b[0m\u001b[0;34m\u001b[0m\u001b[0m\n\u001b[1;32m    194\u001b[0m \u001b[0;34m\u001b[0m\u001b[0m\n\u001b[0;32m--> 195\u001b[0;31m       \u001b[0;32mreturn\u001b[0m \u001b[0m_monitor_process\u001b[0m\u001b[0;34m(\u001b[0m\u001b[0mparent_pty\u001b[0m\u001b[0;34m,\u001b[0m \u001b[0mepoll\u001b[0m\u001b[0;34m,\u001b[0m \u001b[0mp\u001b[0m\u001b[0;34m,\u001b[0m \u001b[0mcmd\u001b[0m\u001b[0;34m,\u001b[0m \u001b[0mupdate_stdin_widget\u001b[0m\u001b[0;34m)\u001b[0m\u001b[0;34m\u001b[0m\u001b[0;34m\u001b[0m\u001b[0m\n\u001b[0m\u001b[1;32m    196\u001b[0m   \u001b[0;32mfinally\u001b[0m\u001b[0;34m:\u001b[0m\u001b[0;34m\u001b[0m\u001b[0;34m\u001b[0m\u001b[0m\n\u001b[1;32m    197\u001b[0m     \u001b[0mepoll\u001b[0m\u001b[0;34m.\u001b[0m\u001b[0mclose\u001b[0m\u001b[0;34m(\u001b[0m\u001b[0;34m)\u001b[0m\u001b[0;34m\u001b[0m\u001b[0;34m\u001b[0m\u001b[0m\n",
            "\u001b[0;32m/usr/lib/python3.6/contextlib.py\u001b[0m in \u001b[0;36m__exit__\u001b[0;34m(self, type, value, traceback)\u001b[0m\n\u001b[1;32m     86\u001b[0m         \u001b[0;32mif\u001b[0m \u001b[0mtype\u001b[0m \u001b[0;32mis\u001b[0m \u001b[0;32mNone\u001b[0m\u001b[0;34m:\u001b[0m\u001b[0;34m\u001b[0m\u001b[0;34m\u001b[0m\u001b[0m\n\u001b[1;32m     87\u001b[0m             \u001b[0;32mtry\u001b[0m\u001b[0;34m:\u001b[0m\u001b[0;34m\u001b[0m\u001b[0;34m\u001b[0m\u001b[0m\n\u001b[0;32m---> 88\u001b[0;31m                 \u001b[0mnext\u001b[0m\u001b[0;34m(\u001b[0m\u001b[0mself\u001b[0m\u001b[0;34m.\u001b[0m\u001b[0mgen\u001b[0m\u001b[0;34m)\u001b[0m\u001b[0;34m\u001b[0m\u001b[0;34m\u001b[0m\u001b[0m\n\u001b[0m\u001b[1;32m     89\u001b[0m             \u001b[0;32mexcept\u001b[0m \u001b[0mStopIteration\u001b[0m\u001b[0;34m:\u001b[0m\u001b[0;34m\u001b[0m\u001b[0;34m\u001b[0m\u001b[0m\n\u001b[1;32m     90\u001b[0m                 \u001b[0;32mreturn\u001b[0m \u001b[0;32mFalse\u001b[0m\u001b[0;34m\u001b[0m\u001b[0;34m\u001b[0m\u001b[0m\n",
            "\u001b[0;32m/usr/local/lib/python3.6/dist-packages/google/colab/_system_commands.py\u001b[0m in \u001b[0;36m_display_stdin_widget\u001b[0;34m(delay_millis)\u001b[0m\n\u001b[1;32m    353\u001b[0m \u001b[0;34m\u001b[0m\u001b[0m\n\u001b[1;32m    354\u001b[0m   \u001b[0mhide_args\u001b[0m \u001b[0;34m=\u001b[0m \u001b[0;34m[\u001b[0m\u001b[0;34m'cell_remove_stdin'\u001b[0m\u001b[0;34m,\u001b[0m \u001b[0;34m{\u001b[0m\u001b[0;34m}\u001b[0m\u001b[0;34m]\u001b[0m\u001b[0;34m\u001b[0m\u001b[0;34m\u001b[0m\u001b[0m\n\u001b[0;32m--> 355\u001b[0;31m   \u001b[0m_message\u001b[0m\u001b[0;34m.\u001b[0m\u001b[0mblocking_request\u001b[0m\u001b[0;34m(\u001b[0m\u001b[0;34m*\u001b[0m\u001b[0mhide_args\u001b[0m\u001b[0;34m,\u001b[0m \u001b[0mparent\u001b[0m\u001b[0;34m=\u001b[0m\u001b[0mshell\u001b[0m\u001b[0;34m.\u001b[0m\u001b[0mparent_header\u001b[0m\u001b[0;34m)\u001b[0m\u001b[0;34m\u001b[0m\u001b[0;34m\u001b[0m\u001b[0m\n\u001b[0m\u001b[1;32m    356\u001b[0m \u001b[0;34m\u001b[0m\u001b[0m\n\u001b[1;32m    357\u001b[0m \u001b[0;34m\u001b[0m\u001b[0m\n",
            "\u001b[0;32m/usr/local/lib/python3.6/dist-packages/google/colab/_message.py\u001b[0m in \u001b[0;36mblocking_request\u001b[0;34m(request_type, request, timeout_sec, parent)\u001b[0m\n\u001b[1;32m    169\u001b[0m   \u001b[0;31m# unique.\u001b[0m\u001b[0;34m\u001b[0m\u001b[0;34m\u001b[0m\u001b[0;34m\u001b[0m\u001b[0m\n\u001b[1;32m    170\u001b[0m   \u001b[0mrequest_id\u001b[0m \u001b[0;34m=\u001b[0m \u001b[0msend_request\u001b[0m\u001b[0;34m(\u001b[0m\u001b[0mrequest_type\u001b[0m\u001b[0;34m,\u001b[0m \u001b[0mrequest\u001b[0m\u001b[0;34m,\u001b[0m \u001b[0mparent\u001b[0m\u001b[0;34m=\u001b[0m\u001b[0mparent\u001b[0m\u001b[0;34m)\u001b[0m\u001b[0;34m\u001b[0m\u001b[0;34m\u001b[0m\u001b[0m\n\u001b[0;32m--> 171\u001b[0;31m   \u001b[0;32mreturn\u001b[0m \u001b[0mread_reply_from_input\u001b[0m\u001b[0;34m(\u001b[0m\u001b[0mrequest_id\u001b[0m\u001b[0;34m,\u001b[0m \u001b[0mtimeout_sec\u001b[0m\u001b[0;34m)\u001b[0m\u001b[0;34m\u001b[0m\u001b[0;34m\u001b[0m\u001b[0m\n\u001b[0m",
            "\u001b[0;32m/usr/local/lib/python3.6/dist-packages/google/colab/_message.py\u001b[0m in \u001b[0;36mread_reply_from_input\u001b[0;34m(message_id, timeout_sec)\u001b[0m\n\u001b[1;32m     99\u001b[0m     \u001b[0mreply\u001b[0m \u001b[0;34m=\u001b[0m \u001b[0m_read_next_input_message\u001b[0m\u001b[0;34m(\u001b[0m\u001b[0;34m)\u001b[0m\u001b[0;34m\u001b[0m\u001b[0;34m\u001b[0m\u001b[0m\n\u001b[1;32m    100\u001b[0m     \u001b[0;32mif\u001b[0m \u001b[0mreply\u001b[0m \u001b[0;34m==\u001b[0m \u001b[0m_NOT_READY\u001b[0m \u001b[0;32mor\u001b[0m \u001b[0;32mnot\u001b[0m \u001b[0misinstance\u001b[0m\u001b[0;34m(\u001b[0m\u001b[0mreply\u001b[0m\u001b[0;34m,\u001b[0m \u001b[0mdict\u001b[0m\u001b[0;34m)\u001b[0m\u001b[0;34m:\u001b[0m\u001b[0;34m\u001b[0m\u001b[0;34m\u001b[0m\u001b[0m\n\u001b[0;32m--> 101\u001b[0;31m       \u001b[0mtime\u001b[0m\u001b[0;34m.\u001b[0m\u001b[0msleep\u001b[0m\u001b[0;34m(\u001b[0m\u001b[0;36m0.025\u001b[0m\u001b[0;34m)\u001b[0m\u001b[0;34m\u001b[0m\u001b[0;34m\u001b[0m\u001b[0m\n\u001b[0m\u001b[1;32m    102\u001b[0m       \u001b[0;32mcontinue\u001b[0m\u001b[0;34m\u001b[0m\u001b[0;34m\u001b[0m\u001b[0m\n\u001b[1;32m    103\u001b[0m     if (reply.get('type') == 'colab_reply' and\n",
            "\u001b[0;31mKeyboardInterrupt\u001b[0m: "
          ]
        }
      ]
    },
    {
      "cell_type": "markdown",
      "metadata": {
        "id": "CIVIV1Vnjfia",
        "colab_type": "text"
      },
      "source": [
        "# [1.1] Process images by masking center region"
      ]
    },
    {
      "cell_type": "code",
      "metadata": {
        "id": "vhbb482liisw",
        "colab_type": "code",
        "colab": {}
      },
      "source": [
        "# Create directory structure for dataloader \n",
        "if os.path.exists('./data'):\n",
        "  ! rm -r ./data\n",
        "os.mkdir('./data')\n",
        "os.mkdir('./data/train')\n",
        "os.mkdir('./data/train/sub')\n",
        "os.mkdir('./data/test')\n",
        "os.mkdir('./data/test/sub')\n",
        "train_path = './data/train/sub'\n",
        "test_path = './data/test/sub'"
      ],
      "execution_count": 0,
      "outputs": []
    },
    {
      "cell_type": "code",
      "metadata": {
        "id": "kkGM0nhqnnZ3",
        "colab_type": "code",
        "colab": {}
      },
      "source": [
        "def process_image(img_path):\n",
        "    \"\"\"\n",
        "    Resizes and masks image in specified path.\n",
        "\n",
        "    Input:\n",
        "    - img_path: path to image\n",
        "\n",
        "    Output:\n",
        "    - Image of size (454,227,3) containing resized original image in left half and\n",
        "      resized, masked image in right half\n",
        "    \"\"\"\n",
        "    img = cv2.imread(img_path)\n",
        "    img = cv2.resize(img, (256,256)) # Resize image to (227,227,3)\n",
        "\n",
        "    # Create mask\n",
        "    mask = 255 * np.ones_like(img)\n",
        "    x,y,_ = mask.shape\n",
        "    mask[int(x/3):int((2/3)*x), int(y/3):int((2/3)*y),:] = 0\n",
        "\n",
        "    # Apply mask\n",
        "    masked = cv2.bitwise_and(img,mask)\n",
        "\n",
        "    # Concatenate original img with masked\n",
        "    cat = np.hstack((img, masked))\n",
        "    return cat\n",
        "  "
      ],
      "execution_count": 0,
      "outputs": []
    },
    {
      "cell_type": "code",
      "metadata": {
        "id": "L1-yYWfxzsMH",
        "colab_type": "code",
        "colab": {}
      },
      "source": [
        "# # To clean folders\n",
        "if len(os.listdir(train_path)) != 0:\n",
        "  for root, dirs, files in os.walk(train_path):\n",
        "      for img in files:\n",
        "          os.remove(os.path.join(root, img))\n",
        "\n",
        "  for root, dirs, files in os.walk(test_path):\n",
        "      for img in files:\n",
        "          os.remove(os.path.join(root, img))"
      ],
      "execution_count": 0,
      "outputs": []
    },
    {
      "cell_type": "code",
      "metadata": {
        "id": "xhnWO6A0l4F2",
        "colab_type": "code",
        "outputId": "d27d62ca-878f-4c87-a62f-662c1feae9b8",
        "colab": {
          "base_uri": "https://localhost:8080/",
          "height": 51
        }
      },
      "source": [
        "path = './VOCdevkit/VOC2007/JPEGImages'\n",
        "images = []\n",
        "\n",
        "for filename in os.listdir(path):\n",
        "    img = process_image(os.path.join(path, filename))\n",
        "    if img is not None:\n",
        "        images.append(img)\n",
        "\n",
        "# Take last 500 images as test data\n",
        "train = images[:-500]\n",
        "test = images[-500:]\n",
        "\n",
        "# Add training images to train directory\n",
        "if len(os.listdir(train_path)) == 0:\n",
        "    for i, img in enumerate(train):\n",
        "        img_path = train_path + '/%d.jpg' % (i + 1)\n",
        "        cv2.imwrite(img_path, img)\n",
        "    print('Train images saved to train directory')\n",
        "else:\n",
        "    print('Please empty {} directory.'.format(train_path))\n",
        "\n",
        "# Add test images to test directory\n",
        "if len(os.listdir(test_path)) == 0:\n",
        "    for i, img in enumerate(test):\n",
        "        img_path = test_path + '/%d.jpg' % (i + 1)\n",
        "        cv2.imwrite(img_path, img)\n",
        "    print('Test images saved to test directory')\n",
        "else:\n",
        "    print('Please empty {} directory.'.format(test_path))"
      ],
      "execution_count": 0,
      "outputs": [
        {
          "output_type": "stream",
          "text": [
            "Train images saved to train directory\n",
            "Test images saved to test directory\n"
          ],
          "name": "stdout"
        }
      ]
    },
    {
      "cell_type": "markdown",
      "metadata": {
        "colab_type": "text",
        "id": "_x9ySPfbSW_x"
      },
      "source": [
        "## [2] Build dataloaders for train and test"
      ]
    },
    {
      "cell_type": "code",
      "metadata": {
        "colab_type": "code",
        "id": "rJypdoKmSW_x",
        "colab": {}
      },
      "source": [
        "def load_data(path, subfolder, transform, batch_size, shuffle=True):\n",
        "    \"\"\"\n",
        "    Data loader.\n",
        "\n",
        "    Inputs:\n",
        "    - path: path of the data.\n",
        "    - subfolder: subfolder of the data.\n",
        "    - transform: data transformation.\n",
        "    - batch_size: the size of the batch\n",
        "    - shuffle: if true, shuffle the data\n",
        "\n",
        "    Outputs:\n",
        "    - torch Dataloader\n",
        "    \"\"\"\n",
        "    direc = path + '/' + subfolder\n",
        "    dset = datasets.ImageFolder(direc, transform=transform)\n",
        "\n",
        "    # For debugging faster, truncate data to 2500 images for training and 10 for validating\n",
        "    if subfolder == 'train':\n",
        "      dset_sub = Subset(dset, torch.arange(0, 2500))\n",
        "    elif subfolder == 'test':\n",
        "      dset_sub = Subset(dset, torch.arange(0, 10))\n",
        "\n",
        "    dataloader = DataLoader(dset,batch_size=batch_size,shuffle=shuffle)\n",
        "    return dataloader"
      ],
      "execution_count": 0,
      "outputs": []
    },
    {
      "cell_type": "code",
      "metadata": {
        "id": "tSYCBtBnurup",
        "colab_type": "code",
        "colab": {}
      },
      "source": [
        "# data_loader\n",
        "transform = transforms.Compose([\n",
        "        transforms.ToTensor(),\n",
        "        transforms.Normalize(mean=(0.5, 0.5, 0.5), std=(0.5, 0.5, 0.5))\n",
        "])\n",
        "train_loader = load_data('./data', 'train', transform, 1, shuffle=True)\n",
        "test_loader = load_data('./data', 'test', transform, 10, shuffle=False)\n",
        "\n",
        "#Sample Output used for visualization\n",
        "test = test_loader.__iter__().__next__()[0]\n",
        "img_size = test.size()[2]\n",
        "fixed_y_ = test[:, :, :, 0:img_size]\n",
        "fixed_x_ = test[:, :, :, img_size:]"
      ],
      "execution_count": 0,
      "outputs": []
    },
    {
      "cell_type": "code",
      "metadata": {
        "id": "nZFgUE-Wuxfv",
        "colab_type": "code",
        "outputId": "7178a92c-3bd2-4ca0-c5e6-53454a97159e",
        "colab": {
          "base_uri": "https://localhost:8080/",
          "height": 219
        }
      },
      "source": [
        "# plot sample image\n",
        "example = train_loader.__iter__().__next__()[0][0].numpy().transpose((1, 2, 0))\n",
        "mean = np.array([0.5, 0.5, 0.5])\n",
        "std = np.array([0.5, 0.5, 0.5])\n",
        "example = std * example + mean\n",
        "plt.imshow(example)\n",
        "plt.show()"
      ],
      "execution_count": 0,
      "outputs": [
        {
          "output_type": "display_data",
          "data": {
            "image/png": "[encoded data removed]",
            "text/plain": [
              "<Figure size 432x288 with 1 Axes>"
            ]
          },
          "metadata": {
            "tags": [],
            "needs_background": "light"
          }
        }
      ]
    },
    {
      "cell_type": "markdown",
      "metadata": {
        "colab_type": "text",
        "id": "iVfdwj8LSW_5"
      },
      "source": [
        "## [3] Define Architecture"
      ]
    },
    {
      "cell_type": "markdown",
      "metadata": {
        "id": "tTiHiZcqqKJ0",
        "colab_type": "text"
      },
      "source": [
        "## RESNET"
      ]
    },
    {
      "cell_type": "code",
      "metadata": {
        "id": "Lk3nWhGRpwGD",
        "colab_type": "code",
        "outputId": "d4dc3b53-5ba5-4945-a0d2-424f8ba0095c",
        "colab": {
          "base_uri": "https://localhost:8080/",
          "height": 1000,
          "referenced_widgets": [
            "3961a2a31b364869ab6c3f601a134d6c",
            "c6a7abd13f054128b0b540dbf942f3a6",
            "e0d61a2464e346248a42c9d47934fb98",
            "471d46795a7d487397adc5d8e5efb2a5",
            "003065512b8b49c2b0f6bdd81dba439a",
            "daabce2053994730b2efa23e0e2b52ff",
            "75106bccfb884ced97a1b484d921c72a",
            "b88bc8e56b0f408ca2097a82512d8791"
          ]
        }
      },
      "source": [
        "model = torch.hub.load('pytorch/vision:v0.5.0', 'resnet34', pretrained=True)\n",
        "# or any of these variants\n",
        "# model = torch.hub.load('pytorch/vision:v0.5.0', 'resnet34', pretrained=True)\n",
        "# model = torch.hub.load('pytorch/vision:v0.5.0', 'resnet50', pretrained=True)\n",
        "# model = torch.hub.load('pytorch/vision:v0.5.0', 'resnet101', pretrained=True)\n",
        "# model = torch.hub.load('pytorch/vision:v0.5.0', 'resnet152', pretrained=True)\n",
        "model.eval()"
      ],
      "execution_count": 0,
      "outputs": [
        {
          "output_type": "stream",
          "text": [
            "Downloading: \"https://github.com/pytorch/vision/archive/v0.5.0.zip\" to /root/.cache/torch/hub/v0.5.0.zip\n",
            "Downloading: \"https://download.pytorch.org/models/resnet34-333f7ec4.pth\" to /root/.cache/torch/checkpoints/resnet34-333f7ec4.pth\n"
          ],
          "name": "stderr"
        },
        {
          "output_type": "display_data",
          "data": {
            "application/vnd.jupyter.widget-view+json": {
              "model_id": "3961a2a31b364869ab6c3f601a134d6c",
              "version_minor": 0,
              "version_major": 2
            },
            "text/plain": [
              "HBox(children=(IntProgress(value=0, max=87306240), HTML(value='')))"
            ]
          },
          "metadata": {
            "tags": []
          }
        },
        {
          "output_type": "stream",
          "text": [
            "\n"
          ],
          "name": "stdout"
        },
        {
          "output_type": "execute_result",
          "data": {
            "text/plain": [
              "ResNet(\n",
              "  (conv1): Conv2d(3, 64, kernel_size=(7, 7), stride=(2, 2), padding=(3, 3), bias=False)\n",
              "  (bn1): BatchNorm2d(64, eps=1e-05, momentum=0.1, affine=True, track_running_stats=True)\n",
              "  (relu): ReLU(inplace=True)\n",
              "  (maxpool): MaxPool2d(kernel_size=3, stride=2, padding=1, dilation=1, ceil_mode=False)\n",
              "  (layer1): Sequential(\n",
              "    (0): BasicBlock(\n",
              "      (conv1): Conv2d(64, 64, kernel_size=(3, 3), stride=(1, 1), padding=(1, 1), bias=False)\n",
              "      (bn1): BatchNorm2d(64, eps=1e-05, momentum=0.1, affine=True, track_running_stats=True)\n",
              "      (relu): ReLU(inplace=True)\n",
              "      (conv2): Conv2d(64, 64, kernel_size=(3, 3), stride=(1, 1), padding=(1, 1), bias=False)\n",
              "      (bn2): BatchNorm2d(64, eps=1e-05, momentum=0.1, affine=True, track_running_stats=True)\n",
              "    )\n",
              "    (1): BasicBlock(\n",
              "      (conv1): Conv2d(64, 64, kernel_size=(3, 3), stride=(1, 1), padding=(1, 1), bias=False)\n",
              "      (bn1): BatchNorm2d(64, eps=1e-05, momentum=0.1, affine=True, track_running_stats=True)\n",
              "      (relu): ReLU(inplace=True)\n",
              "      (conv2): Conv2d(64, 64, kernel_size=(3, 3), stride=(1, 1), padding=(1, 1), bias=False)\n",
              "      (bn2): BatchNorm2d(64, eps=1e-05, momentum=0.1, affine=True, track_running_stats=True)\n",
              "    )\n",
              "    (2): BasicBlock(\n",
              "      (conv1): Conv2d(64, 64, kernel_size=(3, 3), stride=(1, 1), padding=(1, 1), bias=False)\n",
              "      (bn1): BatchNorm2d(64, eps=1e-05, momentum=0.1, affine=True, track_running_stats=True)\n",
              "      (relu): ReLU(inplace=True)\n",
              "      (conv2): Conv2d(64, 64, kernel_size=(3, 3), stride=(1, 1), padding=(1, 1), bias=False)\n",
              "      (bn2): BatchNorm2d(64, eps=1e-05, momentum=0.1, affine=True, track_running_stats=True)\n",
              "    )\n",
              "  )\n",
              "  (layer2): Sequential(\n",
              "    (0): BasicBlock(\n",
              "      (conv1): Conv2d(64, 128, kernel_size=(3, 3), stride=(2, 2), padding=(1, 1), bias=False)\n",
              "      (bn1): BatchNorm2d(128, eps=1e-05, momentum=0.1, affine=True, track_running_stats=True)\n",
              "      (relu): ReLU(inplace=True)\n",
              "      (conv2): Conv2d(128, 128, kernel_size=(3, 3), stride=(1, 1), padding=(1, 1), bias=False)\n",
              "      (bn2): BatchNorm2d(128, eps=1e-05, momentum=0.1, affine=True, track_running_stats=True)\n",
              "      (downsample): Sequential(\n",
              "        (0): Conv2d(64, 128, kernel_size=(1, 1), stride=(2, 2), bias=False)\n",
              "        (1): BatchNorm2d(128, eps=1e-05, momentum=0.1, affine=True, track_running_stats=True)\n",
              "      )\n",
              "    )\n",
              "    (1): BasicBlock(\n",
              "      (conv1): Conv2d(128, 128, kernel_size=(3, 3), stride=(1, 1), padding=(1, 1), bias=False)\n",
              "      (bn1): BatchNorm2d(128, eps=1e-05, momentum=0.1, affine=True, track_running_stats=True)\n",
              "      (relu): ReLU(inplace=True)\n",
              "      (conv2): Conv2d(128, 128, kernel_size=(3, 3), stride=(1, 1), padding=(1, 1), bias=False)\n",
              "      (bn2): BatchNorm2d(128, eps=1e-05, momentum=0.1, affine=True, track_running_stats=True)\n",
              "    )\n",
              "    (2): BasicBlock(\n",
              "      (conv1): Conv2d(128, 128, kernel_size=(3, 3), stride=(1, 1), padding=(1, 1), bias=False)\n",
              "      (bn1): BatchNorm2d(128, eps=1e-05, momentum=0.1, affine=True, track_running_stats=True)\n",
              "      (relu): ReLU(inplace=True)\n",
              "      (conv2): Conv2d(128, 128, kernel_size=(3, 3), stride=(1, 1), padding=(1, 1), bias=False)\n",
              "      (bn2): BatchNorm2d(128, eps=1e-05, momentum=0.1, affine=True, track_running_stats=True)\n",
              "    )\n",
              "    (3): BasicBlock(\n",
              "      (conv1): Conv2d(128, 128, kernel_size=(3, 3), stride=(1, 1), padding=(1, 1), bias=False)\n",
              "      (bn1): BatchNorm2d(128, eps=1e-05, momentum=0.1, affine=True, track_running_stats=True)\n",
              "      (relu): ReLU(inplace=True)\n",
              "      (conv2): Conv2d(128, 128, kernel_size=(3, 3), stride=(1, 1), padding=(1, 1), bias=False)\n",
              "      (bn2): BatchNorm2d(128, eps=1e-05, momentum=0.1, affine=True, track_running_stats=True)\n",
              "    )\n",
              "  )\n",
              "  (layer3): Sequential(\n",
              "    (0): BasicBlock(\n",
              "      (conv1): Conv2d(128, 256, kernel_size=(3, 3), stride=(2, 2), padding=(1, 1), bias=False)\n",
              "      (bn1): BatchNorm2d(256, eps=1e-05, momentum=0.1, affine=True, track_running_stats=True)\n",
              "      (relu): ReLU(inplace=True)\n",
              "      (conv2): Conv2d(256, 256, kernel_size=(3, 3), stride=(1, 1), padding=(1, 1), bias=False)\n",
              "      (bn2): BatchNorm2d(256, eps=1e-05, momentum=0.1, affine=True, track_running_stats=True)\n",
              "      (downsample): Sequential(\n",
              "        (0): Conv2d(128, 256, kernel_size=(1, 1), stride=(2, 2), bias=False)\n",
              "        (1): BatchNorm2d(256, eps=1e-05, momentum=0.1, affine=True, track_running_stats=True)\n",
              "      )\n",
              "    )\n",
              "    (1): BasicBlock(\n",
              "      (conv1): Conv2d(256, 256, kernel_size=(3, 3), stride=(1, 1), padding=(1, 1), bias=False)\n",
              "      (bn1): BatchNorm2d(256, eps=1e-05, momentum=0.1, affine=True, track_running_stats=True)\n",
              "      (relu): ReLU(inplace=True)\n",
              "      (conv2): Conv2d(256, 256, kernel_size=(3, 3), stride=(1, 1), padding=(1, 1), bias=False)\n",
              "      (bn2): BatchNorm2d(256, eps=1e-05, momentum=0.1, affine=True, track_running_stats=True)\n",
              "    )\n",
              "    (2): BasicBlock(\n",
              "      (conv1): Conv2d(256, 256, kernel_size=(3, 3), stride=(1, 1), padding=(1, 1), bias=False)\n",
              "      (bn1): BatchNorm2d(256, eps=1e-05, momentum=0.1, affine=True, track_running_stats=True)\n",
              "      (relu): ReLU(inplace=True)\n",
              "      (conv2): Conv2d(256, 256, kernel_size=(3, 3), stride=(1, 1), padding=(1, 1), bias=False)\n",
              "      (bn2): BatchNorm2d(256, eps=1e-05, momentum=0.1, affine=True, track_running_stats=True)\n",
              "    )\n",
              "    (3): BasicBlock(\n",
              "      (conv1): Conv2d(256, 256, kernel_size=(3, 3), stride=(1, 1), padding=(1, 1), bias=False)\n",
              "      (bn1): BatchNorm2d(256, eps=1e-05, momentum=0.1, affine=True, track_running_stats=True)\n",
              "      (relu): ReLU(inplace=True)\n",
              "      (conv2): Conv2d(256, 256, kernel_size=(3, 3), stride=(1, 1), padding=(1, 1), bias=False)\n",
              "      (bn2): BatchNorm2d(256, eps=1e-05, momentum=0.1, affine=True, track_running_stats=True)\n",
              "    )\n",
              "    (4): BasicBlock(\n",
              "      (conv1): Conv2d(256, 256, kernel_size=(3, 3), stride=(1, 1), padding=(1, 1), bias=False)\n",
              "      (bn1): BatchNorm2d(256, eps=1e-05, momentum=0.1, affine=True, track_running_stats=True)\n",
              "      (relu): ReLU(inplace=True)\n",
              "      (conv2): Conv2d(256, 256, kernel_size=(3, 3), stride=(1, 1), padding=(1, 1), bias=False)\n",
              "      (bn2): BatchNorm2d(256, eps=1e-05, momentum=0.1, affine=True, track_running_stats=True)\n",
              "    )\n",
              "    (5): BasicBlock(\n",
              "      (conv1): Conv2d(256, 256, kernel_size=(3, 3), stride=(1, 1), padding=(1, 1), bias=False)\n",
              "      (bn1): BatchNorm2d(256, eps=1e-05, momentum=0.1, affine=True, track_running_stats=True)\n",
              "      (relu): ReLU(inplace=True)\n",
              "      (conv2): Conv2d(256, 256, kernel_size=(3, 3), stride=(1, 1), padding=(1, 1), bias=False)\n",
              "      (bn2): BatchNorm2d(256, eps=1e-05, momentum=0.1, affine=True, track_running_stats=True)\n",
              "    )\n",
              "  )\n",
              "  (layer4): Sequential(\n",
              "    (0): BasicBlock(\n",
              "      (conv1): Conv2d(256, 512, kernel_size=(3, 3), stride=(2, 2), padding=(1, 1), bias=False)\n",
              "      (bn1): BatchNorm2d(512, eps=1e-05, momentum=0.1, affine=True, track_running_stats=True)\n",
              "      (relu): ReLU(inplace=True)\n",
              "      (conv2): Conv2d(512, 512, kernel_size=(3, 3), stride=(1, 1), padding=(1, 1), bias=False)\n",
              "      (bn2): BatchNorm2d(512, eps=1e-05, momentum=0.1, affine=True, track_running_stats=True)\n",
              "      (downsample): Sequential(\n",
              "        (0): Conv2d(256, 512, kernel_size=(1, 1), stride=(2, 2), bias=False)\n",
              "        (1): BatchNorm2d(512, eps=1e-05, momentum=0.1, affine=True, track_running_stats=True)\n",
              "      )\n",
              "    )\n",
              "    (1): BasicBlock(\n",
              "      (conv1): Conv2d(512, 512, kernel_size=(3, 3), stride=(1, 1), padding=(1, 1), bias=False)\n",
              "      (bn1): BatchNorm2d(512, eps=1e-05, momentum=0.1, affine=True, track_running_stats=True)\n",
              "      (relu): ReLU(inplace=True)\n",
              "      (conv2): Conv2d(512, 512, kernel_size=(3, 3), stride=(1, 1), padding=(1, 1), bias=False)\n",
              "      (bn2): BatchNorm2d(512, eps=1e-05, momentum=0.1, affine=True, track_running_stats=True)\n",
              "    )\n",
              "    (2): BasicBlock(\n",
              "      (conv1): Conv2d(512, 512, kernel_size=(3, 3), stride=(1, 1), padding=(1, 1), bias=False)\n",
              "      (bn1): BatchNorm2d(512, eps=1e-05, momentum=0.1, affine=True, track_running_stats=True)\n",
              "      (relu): ReLU(inplace=True)\n",
              "      (conv2): Conv2d(512, 512, kernel_size=(3, 3), stride=(1, 1), padding=(1, 1), bias=False)\n",
              "      (bn2): BatchNorm2d(512, eps=1e-05, momentum=0.1, affine=True, track_running_stats=True)\n",
              "    )\n",
              "  )\n",
              "  (avgpool): AdaptiveAvgPool2d(output_size=(1, 1))\n",
              "  (fc): Linear(in_features=512, out_features=1000, bias=True)\n",
              ")"
            ]
          },
          "metadata": {
            "tags": []
          },
          "execution_count": 11
        }
      ]
    },
    {
      "cell_type": "markdown",
      "metadata": {
        "id": "iAGv6YlY7_hc",
        "colab_type": "text"
      },
      "source": [
        ""
      ]
    },
    {
      "cell_type": "markdown",
      "metadata": {
        "colab_type": "text",
        "id": "-LCzclOMWLfd"
      },
      "source": [
        "## [3] Define Architecture"
      ]
    },
    {
      "cell_type": "markdown",
      "metadata": {
        "id": "aeae9itO8Bjq",
        "colab_type": "text"
      },
      "source": [
        "3.1 Encoder"
      ]
    },
    {
      "cell_type": "code",
      "metadata": {
        "id": "BCjNVkYS2IwU",
        "colab_type": "code",
        "colab": {}
      },
      "source": [
        "def get_res_block(dim=128, ksz=3, s=1):\n",
        "  \n",
        "  res = nn.Sequential(\n",
        "                  nn.ReflectionPad2d(ksz//2),\n",
        "                  nn.Conv2d(dim, dim, kernel_size=ksz, stride=s), \n",
        "                  nn.InstanceNorm2d(dim),\n",
        "                  nn.ReLU(inplace = True),\n",
        "                  nn.ReflectionPad2d(ksz//2),\n",
        "                  nn.Conv2d(dim,dim,kernel_size=ksz, stride=s), \n",
        "                  nn.InstanceNorm2d(dim))\n",
        "  return res\n",
        "\n",
        "\n",
        "\n",
        "\n",
        "\n",
        "class Generator(nn.Module):\n",
        "    def __init__(self, in_channels = 3):\n",
        "        super(Generator, self).__init__()\n",
        "\n",
        "        ##############################################################################\n",
        "        # TODO: Build an encoder with the Resnet architecture.           #\n",
        "        ##############################################################################\n",
        "        #self.RP = nn.ReflectionPad2d(0)\n",
        "\n",
        "        self.GC1 = nn.Sequential(\n",
        "                                nn.ReflectionPad2d(4),\n",
        "                                nn.Conv2d(3,32, kernel_size=9, stride=1),\n",
        "                                nn.InstanceNorm2d(32),\n",
        "                                nn.ReLU(inplace=True),\n",
        "                                 \n",
        "                                nn.Conv2d(32,64,kernel_size=3, stride=2, padding = 1),\n",
        "                                nn.InstanceNorm2d(64),\n",
        "                                nn.ReLU(inplace=True),\n",
        "\n",
        "                                nn.Conv2d(64,128, kernel_size=3, stride=2, padding = 1),\n",
        "                                nn.InstanceNorm2d(128),\n",
        "                                nn.ReLU(inplace=True))\n",
        "        \n",
        "        self.GR1 = get_res_block(dim=128)\n",
        "        self.GR2 = get_res_block(dim=128)\n",
        "        self.GR3 = get_res_block(dim=128)\n",
        "        self.GR4 = get_res_block(dim=128)\n",
        "        self.GR5 = get_res_block(dim=128)\n",
        "\n",
        "        self.GC2 = nn.Sequential( \n",
        "                                nn.ConvTranspose2d(128,64,kernel_size=3, stride=2, padding = 1, output_padding=1),\n",
        "                                nn.InstanceNorm2d(64),\n",
        "                                nn.ReLU(inplace=True),\n",
        "\n",
        "                                nn.ConvTranspose2d(64,32, kernel_size=3, stride=2, padding = 1, output_padding=1),\n",
        "                                nn.InstanceNorm2d(32),\n",
        "                                nn.ReLU(inplace=True),\n",
        "                                 \n",
        "                                nn.ReflectionPad2d(4),\n",
        "                                nn.Conv2d(32,3, kernel_size=9, stride=1),\n",
        "                                nn.InstanceNorm2d(3),\n",
        "                                nn.ReLU(inplace=True))\n",
        "        self._initialize_weights()\n",
        "        \n",
        "\n",
        "    def _initialize_weights(self):\n",
        "        for m in self.modules():\n",
        "            if isinstance(m, nn.Conv2d) or isinstance(m, nn.ConvTranspose2d):\n",
        "                nn.init.kaiming_normal_(m.weight, mode='fan_out', nonlinearity='relu')\n",
        "                if m.bias is not None:\n",
        "                    nn.init.constant_(m.bias, 0)\n",
        "            elif isinstance(m, nn.InstanceNorm2d):\n",
        "                nn.init.constant_(m.weight, 1)\n",
        "                nn.init.constant_(m.bias, 0)\n",
        "\n",
        "    def forward(self, x):\n",
        "        '''\n",
        "        Given an image x, return the encoded latent representation h.\n",
        "\n",
        "        Args:\n",
        "            x: torch.tensor\n",
        "\n",
        "        Return: \n",
        "            out: torch.tensor\n",
        "        '''\n",
        "        #yrf  = self.RP(x)\n",
        "        ygc0 = self.GC1(x)\n",
        "        ygr1 = self.GR1(ygc1) + ygc0\n",
        "        ygr2 = self.GR2(ygr1) + ygr1\n",
        "        ygr3 = self.GR2(ygr2) + ygr2\n",
        "        ygr4 = self.GR2(ygr3) + ygr3\n",
        "        ygr5 = self.GR2(ygr4) + ygr4\n",
        "        out  = self.GC2(ygr5)\n",
        "        return out"
      ],
      "execution_count": 0,
      "outputs": []
    },
    {
      "cell_type": "markdown",
      "metadata": {
        "id": "o1kzV_ML79u3",
        "colab_type": "text"
      },
      "source": [
        ""
      ]
    },
    {
      "cell_type": "code",
      "metadata": {
        "id": "VtgFDDjh7kiy",
        "colab_type": "code",
        "outputId": "1f7a00a8-2b73-4d2c-84f5-d5f2e9f37d8b",
        "colab": {
          "base_uri": "https://localhost:8080/",
          "height": 184
        }
      },
      "source": [
        "# Print out the neural network architectures and activation dimensions.\n",
        "# Verify that your network has the same architecture as the one we printed above.\n",
        "generator = Generator().to(device)\n",
        "summary(generator, [(3, 256, 256)])"
      ],
      "execution_count": 0,
      "outputs": [
        {
          "output_type": "error",
          "ename": "NameError",
          "evalue": "ignored",
          "traceback": [
            "\u001b[0;31m---------------------------------------------------------------------------\u001b[0m",
            "\u001b[0;31mNameError\u001b[0m                                 Traceback (most recent call last)",
            "\u001b[0;32m<ipython-input-1-9dbdcbb5a479>\u001b[0m in \u001b[0;36m<module>\u001b[0;34m()\u001b[0m\n\u001b[0;32m----> 1\u001b[0;31m \u001b[0mgenerator\u001b[0m \u001b[0;34m=\u001b[0m \u001b[0mGenerator\u001b[0m\u001b[0;34m(\u001b[0m\u001b[0;34m)\u001b[0m\u001b[0;34m.\u001b[0m\u001b[0mto\u001b[0m\u001b[0;34m(\u001b[0m\u001b[0mdevice\u001b[0m\u001b[0;34m)\u001b[0m\u001b[0;34m\u001b[0m\u001b[0;34m\u001b[0m\u001b[0m\n\u001b[0m\u001b[1;32m      2\u001b[0m \u001b[0msummary\u001b[0m\u001b[0;34m(\u001b[0m\u001b[0mgenerator\u001b[0m\u001b[0;34m,\u001b[0m \u001b[0;34m[\u001b[0m\u001b[0;34m(\u001b[0m\u001b[0;36m3\u001b[0m\u001b[0;34m,\u001b[0m \u001b[0;36m256\u001b[0m\u001b[0;34m,\u001b[0m \u001b[0;36m256\u001b[0m\u001b[0;34m)\u001b[0m\u001b[0;34m]\u001b[0m\u001b[0;34m)\u001b[0m\u001b[0;34m\u001b[0m\u001b[0;34m\u001b[0m\u001b[0m\n",
            "\u001b[0;31mNameError\u001b[0m: name 'Generator' is not defined"
          ]
        }
      ]
    },
    {
      "cell_type": "markdown",
      "metadata": {
        "id": "3WEkBiq58HYs",
        "colab_type": "text"
      },
      "source": [
        "3.2 Decoder"
      ]
    },
    {
      "cell_type": "code",
      "metadata": {
        "id": "W4RaDCkn7n1-",
        "colab_type": "code",
        "colab": {}
      },
      "source": [
        "class Discriminator(nn.Module):\n",
        "    def __init__(self, in_channels = 6, feat_dim=32):\n",
        "        super(Discriminator, self).__init__()\n",
        "\n",
        "        ##############################################################################\n",
        "        # TODO: Build the decoder as specified above.                                #\n",
        "        ##############################################################################  \n",
        "        self.D_shared = nn.Sequential(\n",
        "                        nn.Conv2d(in_channels, feat_dim, kernel_size=9, stride=1, padding=4),\n",
        "                        nn.InstanceNorm2d(feat_dim), \n",
        "                        nn.LeakyReLU(negative_slope=0.2, inplace=True),\n",
        "\n",
        "                        nn.Conv2d(feat_dim, 64,kernel_size=3, stride=2, padding = 1),\n",
        "                        nn.InstanceNorm2d(64),\n",
        "                        nn.LeakyReLU(negative_slope=0.2, inplace=True),\n",
        "\n",
        "                        nn.Conv2d(64, 128, kernel_size=3, stride=2, padding = 1),\n",
        "                        nn.InstanceNorm2d(128),\n",
        "                        nn.LeakyReLU(negative_slope=0.2, inplace=True),\n",
        "\n",
        "                        nn.Conv2d(128, 256, kernel_size=3, stride=2, padding = 1),\n",
        "                        nn.InstanceNorm2d(256),\n",
        "                        nn.LeakyReLU(negative_slope=0.2, inplace=True))\n",
        "        \n",
        "        self.D_pgan =  nn.Sequential(\n",
        "                        nn.Conv2d(256, 512, kernel_size=3, stride=2, padding = 1),\n",
        "                        nn.InstanceNorm2d(512),\n",
        "                        nn.LeakyReLU(negative_slope=0.2, inplace=True),\n",
        "\n",
        "                        nn.Conv2d(512, 512, kernel_size=3, stride=2, padding = 1),\n",
        "                        nn.InstanceNorm2d(512),\n",
        "                        nn.LeakyReLU(negative_slope=0.2, inplace=True),\n",
        "\n",
        "                        nn.Conv2d(512, 1, kernel_size=3, stride=1, padding = 1))\n",
        "        \n",
        "        self.D_ggan =  nn.Sequential(\n",
        "                        nn.Conv2d(256, 512, kernel_size=3, stride=2, padding = 1),\n",
        "                        nn.InstanceNorm2d(512),\n",
        "                        nn.LeakyReLU(negative_slope=0.2, inplace=True),\n",
        "\n",
        "                        nn.Conv2d(512, 1024, kernel_size=3, stride=2, padding = 1),\n",
        "                        nn.InstanceNorm2d(1024),\n",
        "                        nn.LeakyReLU(negative_slope=0.2, inplace=True),\n",
        "\n",
        "                        nn.Conv2d(1024, 1, kernel_size=3, stride=1, padding = 1))\n",
        "        \n",
        "        self._initialize_weights()\n",
        "\n",
        "    def _initialize_weights(self):\n",
        "        for m in self.modules():\n",
        "            if isinstance(m, nn.Conv2d):\n",
        "                nn.init.kaiming_normal_(m.weight, mode='fan_out', nonlinearity='leaky_relu')\n",
        "                if m.bias is not None:\n",
        "                    nn.init.constant_(m.bias, 0)\n",
        "            elif isinstance(m, nn.InstanceNorm2d):\n",
        "                nn.init.constant_(m.weight, 1)\n",
        "                nn.init.constant_(m.bias, 0)\n",
        "\n",
        "        \n",
        "    def activate_gradients(self, net_gan=3, cond=False):\n",
        "        \"\"\"\n",
        "        Enable or disable  gradients when computing losses\n",
        "        net_gan = 0  gradients for shared weights\n",
        "        net_gan = 1  gradients for shared patch gan weights\n",
        "        net_gan = 2  gradients for shared global gan weights\n",
        "        net_gan = 3  gradients for all weights\n",
        "        \"\"\"\n",
        "        s_cond, pg_cond, g_cond = cond, cond, cond\n",
        "        if(net_gan == 0):\n",
        "            s_cond, pg_cond, g_cond = s_cond, !pg_cond, !g_cond\n",
        "        elif(net_gan == 1):\n",
        "            s_cond, pg_cond, g_cond = !s_cond, pg_cond, !g_cond\n",
        "        elif(net_gan == 2):\n",
        "            s_cond, pg_cond, g_cond = !s_cond, !pg_cond, g_cond\n",
        "        elif(net_gan == 3):\n",
        "            s_cond, pg_cond, g_cond = s_cond, pg_cond, g_cond\n",
        "        else:\n",
        "            return\n",
        "\n",
        "        for param in self.D_shared.parameters():\n",
        "            param.requires_grad = s_cond\n",
        "        for param in self.D_pgan.parameters():\n",
        "            param.requires_grad = pg_cond\n",
        "        for param in self.D_ggan.parameters():\n",
        "            param.requires_grad = g_cond\n",
        "       \n",
        "     \n",
        "\n",
        "\n",
        "    def forward(self, x):\n",
        "        '''\n",
        "        Given latent representation h, reconstruct an image patch of size 64 x 64.\n",
        "\n",
        "        Args:\n",
        "            x: torch.tensor\n",
        "\n",
        "        Return: \n",
        "            yp, yg\n",
        "            yp: torch.tensor, patch gan output\n",
        "            yg: torch.tensor, global gan output\n",
        "        '''\n",
        "        ys = self.D_shared(x)\n",
        "        yp = self.D_pgan(ys)\n",
        "        yg = self.D_ggan(ys)\n",
        "        return yp, yg"
      ],
      "execution_count": 0,
      "outputs": []
    },
    {
      "cell_type": "code",
      "metadata": {
        "id": "My9PXfbE7snc",
        "colab_type": "code",
        "outputId": "178aca93-c3a7-4554-f40c-244ed002397c",
        "colab": {
          "base_uri": "https://localhost:8080/",
          "height": 680
        }
      },
      "source": [
        "# Print out the neural network architectures and activation dimensions.\n",
        "# Verify that your network has the same architecture as the one we printed above.\n",
        "discriminator = Discriminator().to(device)\n",
        "summary(discriminator, [(6, 256, 256)])"
      ],
      "execution_count": 0,
      "outputs": [
        {
          "output_type": "stream",
          "text": [
            "----------------------------------------------------------------\n",
            "        Layer (type)               Output Shape         Param #\n",
            "================================================================\n",
            "            Conv2d-1         [-1, 32, 256, 256]          15,584\n",
            "    InstanceNorm2d-2         [-1, 32, 256, 256]               0\n",
            "         LeakyReLU-3         [-1, 32, 256, 256]               0\n",
            "            Conv2d-4         [-1, 64, 128, 128]          18,496\n",
            "    InstanceNorm2d-5         [-1, 64, 128, 128]               0\n",
            "         LeakyReLU-6         [-1, 64, 128, 128]               0\n",
            "            Conv2d-7          [-1, 128, 64, 64]          73,856\n",
            "    InstanceNorm2d-8          [-1, 128, 64, 64]               0\n",
            "         LeakyReLU-9          [-1, 128, 64, 64]               0\n",
            "           Conv2d-10          [-1, 256, 32, 32]         295,168\n",
            "   InstanceNorm2d-11          [-1, 256, 32, 32]               0\n",
            "        LeakyReLU-12          [-1, 256, 32, 32]               0\n",
            "           Conv2d-13          [-1, 512, 16, 16]       1,180,160\n",
            "   InstanceNorm2d-14          [-1, 512, 16, 16]               0\n",
            "        LeakyReLU-15          [-1, 512, 16, 16]               0\n",
            "           Conv2d-16            [-1, 512, 8, 8]       2,359,808\n",
            "   InstanceNorm2d-17            [-1, 512, 8, 8]               0\n",
            "        LeakyReLU-18            [-1, 512, 8, 8]               0\n",
            "           Conv2d-19              [-1, 1, 8, 8]           4,609\n",
            "           Conv2d-20          [-1, 512, 16, 16]       1,180,160\n",
            "   InstanceNorm2d-21          [-1, 512, 16, 16]               0\n",
            "        LeakyReLU-22          [-1, 512, 16, 16]               0\n",
            "           Conv2d-23           [-1, 1024, 8, 8]       4,719,616\n",
            "   InstanceNorm2d-24           [-1, 1024, 8, 8]               0\n",
            "        LeakyReLU-25           [-1, 1024, 8, 8]               0\n",
            "           Conv2d-26              [-1, 1, 8, 8]           9,217\n",
            "================================================================\n",
            "Total params: 9,856,674\n",
            "Trainable params: 9,856,674\n",
            "Non-trainable params: 0\n",
            "----------------------------------------------------------------\n",
            "Input size (MB): 1.50\n",
            "Forward/backward pass size (MB): 98.25\n",
            "Params size (MB): 37.60\n",
            "Estimated Total Size (MB): 137.35\n",
            "----------------------------------------------------------------\n"
          ],
          "name": "stdout"
        }
      ]
    },
    {
      "cell_type": "markdown",
      "metadata": {
        "id": "x6wq4mNJ8JyG",
        "colab_type": "text"
      },
      "source": [
        "3.3 U-Net Autoencoder"
      ]
    },
    {
      "cell_type": "code",
      "metadata": {
        "id": "BUibcvzk7xzT",
        "colab_type": "code",
        "colab": {}
      },
      "source": [
        "class InpaintModel(nn.Module)\n",
        "    def __init__(self, lambda = [0.995, 0.0025, 0.0025]):\n",
        "        self.D = Discriminator()\n",
        "        self.G = Generator()\n",
        "        self.G_L1_Loss = nn.L1Loss()\n",
        "        self.D_PGAN_Loss = nn.BCEWithLogitsLoss()\n",
        "        self.D_GGAN_Loss = nn.BCEWithLogitsLoss()\n",
        "        self.G_Optim = optim.Adam(self.G.parameters(), lr=1e-3)\n",
        "        self.D_PGAN_Optim = optim.Adam(self.D.D_pgan.parameters(), lr = 1e-3)\n",
        "        self.D_GGAN_Optim = optim.Adam(self.D.D_ggan.parameters(), lr = 1e-3)\n",
        "        self.D_SGAN_Optim = optim.Adam(self.D.D_shared.parameters(), lr = 1e-3)\n",
        "\n",
        "    def set_inputs(self, x, y):\n",
        "        self.x_input = x\n",
        "        self.y_input = y\n",
        "    \n",
        "    def forward(self):\n",
        "        self.y_fake = self.gnet(self.x_input)\n",
        "\n",
        "    def train_networks(self):\n",
        "        self.forward()\n",
        "        #train discriminator network\n",
        "        real_x_fake_y = torch.cat((self.x_input, self.y_fake), dim=1)\n",
        "        real_x_real_y = torch.cat((self.x_input, self.y_input), dim=1)\n",
        "        pred_fake_pgan, pred_fake_ggan = self.dnet(real_x_fake_y.detach())\n",
        "        pred_real_pgan, pred_real_ggan = self.dnet(real_x_real_y.detach())\n",
        "        \n",
        "        # train pgan weights of discrimminator\n",
        "        loss_d_pgan_fake = self.D_PGAN_Loss(pred_fake_pgan, False) \n",
        "        loss_d_pgan_real = self.D_PGAN_Loss(pred_real_pgan, True)\n",
        "        loss_d_pgan = (loss_d_pgan_fake + loss_d_pgan_real)/2.0\n",
        "        self.dnet.activate_gradients(net_gan=1, cond=True)\n",
        "        self.D_PGAN_Optim.zero_grad();\n",
        "        loss_d_pgan.backward()\n",
        "        self.D_PGAN_Optim.step()\n",
        "\n",
        "        # train ggan weights of discrimminator\n",
        "        loss_d_ggan_fake = self.D_PGAN_Loss(pred_fake_ggan, False) \n",
        "        loss_d_ggan_real = self.D_PGAN_Loss(pred_real_ggan, True)\n",
        "        loss_d_ggan = (loss_g_pgan_fake + loss_d_ggan_real)/2.0\n",
        "        self.dnet.activate_gradients(net_gan=2, cond=True)\n",
        "        self.D_GGAN_Optim.zero_grad();\n",
        "        loss_d_ggan.backward()\n",
        "        self.D_GGAN_Optim.step()\n",
        "\n",
        "        #train shared weights of discrimminator\n",
        "        loss_d_sgan = loss_d_ggan + loss_d_pgan\n",
        "        self.dnet.activate_gradients(net_gan=0, cond=True)\n",
        "        self.D_SGAN_Optim.zero_grad();\n",
        "        loss_d_sgan.backward()\n",
        "        self.D_SGAN_Optim.step()\n",
        "\n",
        "        #train generator\n",
        "        #first disable discriminator\n",
        "        self.dnet.activate_gradients(net_gan=3, cond=False) \n",
        "        loss_g_rec = self.G_L1_Loss(self.y_fake, self.y_input)\n",
        "        net_loss = lambda[0]*loss_g_rec + lambda[1]*loss_d_pgan + lambda[2]*loss_d_ggan\n",
        "        self.G_Optim.zero_grad()\n",
        "        net_loss.backward()\n",
        "        self.G_Optim.step()\n",
        "\n",
        "        return net_loss, loss_d_pgan, loss_d_ggan\n",
        "        \n",
        "\n",
        "\n",
        "\n",
        "class Autoencoder(nn.Module):\n",
        "    def __init__(self, in_channels=3, feat_dim=64):\n",
        "        super(Autoencoder, self).__init__()\n",
        "\n",
        "        self.encoder = Encoder()\n",
        "        self.decoder = Decoder()\n",
        "\n",
        "    def forward(self, x):\n",
        "        '''\n",
        "        Compress and reconstruct the input image with encoder and decoder.\n",
        "\n",
        "        Args:\n",
        "            x: torch.tensor\n",
        "\n",
        "        Return: \n",
        "            x_: torch.tensor\n",
        "        '''\n",
        "\n",
        "        h = self.encoder(x)\n",
        "        x_ = self.decoder(h)\n",
        "\n",
        "        return x_"
      ],
      "execution_count": 0,
      "outputs": []
    },
    {
      "cell_type": "code",
      "metadata": {
        "id": "vioY12bu70ib",
        "colab_type": "code",
        "outputId": "5535ec8d-a551-4749-b21d-427096b13eea",
        "colab": {
          "base_uri": "https://localhost:8080/",
          "height": 710
        }
      },
      "source": [
        "# verify that your autoconder's output\n",
        "ae = Autoencoder().to(device)\n",
        "summary(ae, (3, 64, 64))"
      ],
      "execution_count": 0,
      "outputs": [
        {
          "output_type": "stream",
          "text": [
            "----------------------------------------------------------------\n",
            "        Layer (type)               Output Shape         Param #\n",
            "================================================================\n",
            "            Conv2d-1           [-1, 64, 15, 15]          23,296\n",
            "              ReLU-2           [-1, 64, 15, 15]               0\n",
            "         MaxPool2d-3             [-1, 64, 7, 7]               0\n",
            "            Conv2d-4            [-1, 192, 7, 7]         307,392\n",
            "              ReLU-5            [-1, 192, 7, 7]               0\n",
            "         MaxPool2d-6            [-1, 192, 3, 3]               0\n",
            "            Conv2d-7            [-1, 384, 3, 3]         663,936\n",
            "              ReLU-8            [-1, 384, 3, 3]               0\n",
            "            Conv2d-9            [-1, 256, 3, 3]         884,992\n",
            "             ReLU-10            [-1, 256, 3, 3]               0\n",
            "           Conv2d-11            [-1, 256, 3, 3]         590,080\n",
            "             ReLU-12            [-1, 256, 3, 3]               0\n",
            "        MaxPool2d-13            [-1, 256, 1, 1]               0\n",
            "AdaptiveAvgPool2d-14            [-1, 256, 6, 6]               0\n",
            "          Encoder-15            [-1, 256, 6, 6]               0\n",
            "  ConvTranspose2d-16            [-1, 256, 6, 6]         590,080\n",
            "             ReLU-17            [-1, 256, 6, 6]               0\n",
            "  ConvTranspose2d-18            [-1, 384, 6, 6]         885,120\n",
            "             ReLU-19            [-1, 384, 6, 6]               0\n",
            "  ConvTranspose2d-20            [-1, 192, 6, 6]         663,744\n",
            "             ReLU-21            [-1, 192, 6, 6]               0\n",
            "  ConvTranspose2d-22             [-1, 64, 6, 6]         307,264\n",
            "             ReLU-23             [-1, 64, 6, 6]               0\n",
            "  ConvTranspose2d-24            [-1, 3, 27, 27]          23,235\n",
            "             ReLU-25            [-1, 3, 27, 27]               0\n",
            "          Sigmoid-26            [-1, 3, 27, 27]               0\n",
            "          Decoder-27            [-1, 3, 27, 27]               0\n",
            "================================================================\n",
            "Total params: 4,939,139\n",
            "Trainable params: 4,939,139\n",
            "Non-trainable params: 0\n",
            "----------------------------------------------------------------\n",
            "Input size (MB): 0.05\n",
            "Forward/backward pass size (MB): 1.22\n",
            "Params size (MB): 18.84\n",
            "Estimated Total Size (MB): 20.11\n",
            "----------------------------------------------------------------\n"
          ],
          "name": "stdout"
        }
      ]
    },
    {
      "cell_type": "markdown",
      "metadata": {
        "id": "fPpqbwWQ8RLS",
        "colab_type": "text"
      },
      "source": [
        "3.4 Train Autoencoder"
      ]
    },
    {
      "cell_type": "markdown",
      "metadata": {
        "colab_type": "text",
        "id": "WpQyaM6KWLpR"
      },
      "source": [
        "## [4] Train\n",
        "\n"
      ]
    },
    {
      "cell_type": "code",
      "metadata": {
        "id": "yKYOL8v62KGL",
        "colab_type": "code",
        "colab": {}
      },
      "source": [
        "# Helper function for showing result.\n",
        "def process_image(img):\n",
        "    return (img.cpu().data.numpy().transpose(1, 2, 0) + 1) / 2\n",
        "\n",
        "def show_result(G, x_, y_, num_epoch):\n",
        "    predict_images = G(x_)\n",
        "\n",
        "    fig, ax = plt.subplots(x_.size()[0], 3, figsize=(10,30))\n",
        "\n",
        "    for i in range(x_.size()[0]):\n",
        "        ax[i, 0].get_xaxis().set_visible(False)\n",
        "        ax[i, 0].get_yaxis().set_visible(False)\n",
        "        ax[i, 1].get_xaxis().set_visible(False)\n",
        "        ax[i, 1].get_yaxis().set_visible(False)\n",
        "        ax[i, 2].get_xaxis().set_visible(False)\n",
        "        ax[i, 2].get_yaxis().set_visible(False)\n",
        "        ax[i, 0].cla()\n",
        "        ax[i, 0].imshow(process_image(x_[i]))\n",
        "        ax[i, 1].cla()\n",
        "        ax[i, 1].imshow(process_image(predict_images[i]))\n",
        "        ax[i, 2].cla()\n",
        "        ax[i, 2].imshow(process_image(y_[i]))\n",
        "    \n",
        "    plt.tight_layout()\n",
        "    label_epoch = 'Epoch {0}'.format(num_epoch)\n",
        "    fig.text(0.5, 0, label_epoch, ha='center')\n",
        "    label_input = 'Input'\n",
        "    fig.text(0.18, 1, label_input, ha='center')\n",
        "    label_output = 'Output'\n",
        "    fig.text(0.5, 1, label_output, ha='center')\n",
        "    label_truth = 'Ground truth'\n",
        "    fig.text(0.81, 1, label_truth, ha='center')\n",
        "\n",
        "    plt.show()\n",
        "\n",
        "# Helper function for counting number of trainable parameters.\n",
        "def count_params(model):\n",
        "    '''\n",
        "    Counts the number of trainable parameters in PyTorch.\n",
        "    Args:\n",
        "        model: PyTorch model.\n",
        "    Returns:\n",
        "        num_params: int, number of trainable parameters.\n",
        "    '''\n",
        "    num_params = sum([item.numel() for item in model.parameters() if item.requires_grad])\n",
        "    return num_params"
      ],
      "execution_count": 0,
      "outputs": []
    },
    {
      "cell_type": "code",
      "metadata": {
        "id": "ofpfgs8WV1t-",
        "colab_type": "code",
        "colab": {}
      },
      "source": [
        "# Hint: you could use following loss to complete following function\n",
        "BCE_loss = nn.BCELoss().cuda()\n",
        "L1_loss = nn.L1Loss().cuda()\n",
        "\n",
        "def train(G, D, num_epochs = 20, only_L1 = False):\n",
        "    hist_D_losses = []\n",
        "    hist_G_losses = []\n",
        "    #++++++++++++++++++++++++++++++++++++++++++++++#\n",
        "    #++++++++++++++++++++++++++++++++++++++++++++++#\n",
        "    # ============== YOUR CODE HERE ============== # \n",
        "  \n",
        "    # Adam optimizer\n",
        "    G_optimizer = torch.optim.Adam(G.parameters(), lr=0.0002, betas=(0.5,.999))\n",
        "    D_optimizer = torch.optim.Adam(D.parameters(), lr=0.0002, betas=(0.5,.999))\n",
        "\n",
        "    #++++++++++++++++++++++++++++++++++++++++++++++#\n",
        "    #++++++++++++++++++++++++++++++++++++++++++++++#\n",
        "    # ============== END OF CODE ============== #\n",
        "\n",
        "    print('training start!')\n",
        "    start_time = time.time()\n",
        "    for epoch in range(num_epochs):\n",
        "        print('Start training epoch %d' % (epoch + 1))\n",
        "        D_losses = []\n",
        "        G_losses = []\n",
        "        epoch_start_time = time.time()\n",
        "        num_iter = 0\n",
        "\n",
        "        for x_, _ in train_loader:\n",
        "            \n",
        "            y_ = x_[:, :, :, 0:img_size]\n",
        "            x_ = x_[:, :, :, img_size:]\n",
        "                \n",
        "            x_, y_ = Variable(x_.cuda()), Variable(y_.cuda())\n",
        "\n",
        "            # train discriminator D\n",
        "            #++++++++++++++++++++++++++++++++++++++++++++++#\n",
        "            #++++++++++++++++++++++++++++++++++++++++++++++#\n",
        "            # ============== YOUR CODE HERE ============== # \n",
        "            D.zero_grad()\n",
        "            gen = G(x_)\n",
        "\n",
        "            D_real = D(x_, y_).squeeze()\n",
        "            D_fake = D(x_, gen).squeeze()\n",
        "\n",
        "            #Fill values initialized for real and fake\n",
        "            fake = torch.zeros_like(D_fake)\n",
        "            real = torch.ones_like(D_real)\n",
        "\n",
        "            #Use loss function\n",
        "            loss_D = (BCE_loss(D_real, real) + BCE_loss(D_fake, fake)) / 2\n",
        "            \n",
        "            loss_D.backward()\n",
        "            D_optimizer.step()\n",
        "\n",
        "            #++++++++++++++++++++++++++++++++++++++++++++++#\n",
        "            #++++++++++++++++++++++++++++++++++++++++++++++#\n",
        "             # ============== END OF CODE ============== #\n",
        "\n",
        "            D_losses.append(loss_D)\n",
        "            hist_D_losses.append(loss_D)\n",
        "\n",
        "            # train generator G\n",
        "            #++++++++++++++++++++++++++++++++++++++++++++++#\n",
        "            #++++++++++++++++++++++++++++++++++++++++++++++#\n",
        "            # ============== YOUR CODE HERE ============== # \n",
        "            G.zero_grad()\n",
        "            gen = G(x_)\n",
        "\n",
        "            D_res = D(x_, gen).squeeze()\n",
        "            real = torch.ones_like(D_res)\n",
        "\n",
        "            if(only_L1): #L1 loss only case\n",
        "                loss_G = L1_loss(gen, y_)\n",
        "            else:\n",
        "                loss_G = BCE_loss(D_res, real) + (100 * L1_loss(gen, y_))\n",
        "            \n",
        "            loss_G.backward()\n",
        "            G_optimizer.step()\n",
        "      \n",
        "            #++++++++++++++++++++++++++++++++++++++++++++++#\n",
        "            #++++++++++++++++++++++++++++++++++++++++++++++#\n",
        "            # ============== END OF CODE ================= #\n",
        "\n",
        "            G_losses.append(loss_G)\n",
        "            hist_G_losses.append(loss_G)\n",
        "            num_iter += 1\n",
        "\n",
        "        epoch_end_time = time.time()\n",
        "        per_epoch_ptime = epoch_end_time - epoch_start_time\n",
        "\n",
        "        print('[%d/%d] - using time: %.2f' % ((epoch + 1), num_epochs, per_epoch_ptime))\n",
        "        print('loss of discriminator D: %.3f' % (torch.mean(torch.FloatTensor(D_losses))))\n",
        "        print('loss of generator G: %.3f' % (torch.mean(torch.FloatTensor(G_losses))))\n",
        "        print('Sample Image:')\n",
        "        show_result(G, Variable(fixed_x_.cuda(), volatile=True), fixed_y_, (epoch+1))\n",
        "\n",
        "    end_time = time.time()\n",
        "    total_ptime = end_time - start_time\n",
        "\n",
        "    return hist_D_losses, hist_G_losses\n",
        "\n"
      ],
      "execution_count": 0,
      "outputs": []
    },
    {
      "cell_type": "code",
      "metadata": {
        "id": "Uflpj04uV2De",
        "colab_type": "code",
        "colab": {}
      },
      "source": [
        "# Define network\n",
        "G_100 = generator()\n",
        "D_100 = discriminator()\n",
        "G_100.weight_init(mean=0.0, std=0.02)\n",
        "D_100.weight_init(mean=0.0, std=0.02)\n",
        "G_100.cuda()\n",
        "D_100.cuda()\n",
        "G_100.train()\n",
        "D_100.train()\n",
        "\n",
        "#Report the architectures of your network\n",
        "print(G_100)\n",
        "print('Number of trainable parameters {}'.format(count_params(G_100)))\n",
        "\n",
        "print(D_100)\n",
        "print('Number of trainable parameters {}'.format(count_params(D_100)))"
      ],
      "execution_count": 0,
      "outputs": []
    },
    {
      "cell_type": "code",
      "metadata": {
        "id": "KHQr4rvNV2Mw",
        "colab_type": "code",
        "colab": {}
      },
      "source": [
        "#training\n",
        "# TODO: change_num_epochs if you want\n",
        "hist_D_100_losses, hist_G_100_losses = train(G_100, D_100, num_epochs = 20, only_L1 = False)"
      ],
      "execution_count": 0,
      "outputs": []
    },
    {
      "cell_type": "code",
      "metadata": {
        "id": "ywQ7LcwJV2R1",
        "colab_type": "code",
        "colab": {}
      },
      "source": [
        "# Define network\n",
        "G_L1 = generator()\n",
        "D_L1 = discriminator()\n",
        "G_L1.weight_init(mean=0.0, std=0.02)\n",
        "D_L1.weight_init(mean=0.0, std=0.02)\n",
        "G_L1.cuda()\n",
        "D_L1.cuda()\n",
        "G_L1.train()\n",
        "D_L1.train()\n",
        "\n",
        "#training\n",
        "# TODO: change_num_epochs if you want\n",
        "hist_D_L1_losses, hist_G_L1_losses = train(G_L1, D_L1, num_epochs = 10, only_L1 = True)"
      ],
      "execution_count": 0,
      "outputs": []
    },
    {
      "cell_type": "markdown",
      "metadata": {
        "id": "o2tFGTSLWnuT",
        "colab_type": "text"
      },
      "source": [
        "Visualize Losses"
      ]
    },
    {
      "cell_type": "code",
      "metadata": {
        "id": "tSGwBO5xV2XH",
        "colab_type": "code",
        "colab": {}
      },
      "source": [
        "# plot the G/D loss history v.s. Iteration in one plot\n",
        "#++++++++++++++++++++++++++++++++++++++++++++++#\n",
        "#++++++++++++++++++++++++++++++++++++++++++++++#\n",
        "# ============== YOUR CODE HERE ============== # \n",
        "num_iter = []\n",
        "for i in  range(8000):\n",
        "  num_iter.append(i)\n",
        "\n",
        "plt.figure()\n",
        "plt.plot(num_iter, hist_D_100_losses)\n",
        "plt.plot(num_iter, hist_G_100_losses)\n",
        "plt.legend(['D Loss', 'G Loss'])\n",
        "plt.xticks(num_iter)\n",
        "plt.xlabel('Iteration')\n",
        "plt.ylabel('Loss')\n",
        "plt.title('Loss History for G and D vs. Iteration')\n",
        "plt.show()\n",
        "\n",
        "#++++++++++++++++++++++++++++++++++++++++++++++#\n",
        "#++++++++++++++++++++++++++++++++++++++++++++++#\n",
        "# =============== END OF CODE ================ #\n",
        "\n"
      ],
      "execution_count": 0,
      "outputs": []
    },
    {
      "cell_type": "code",
      "metadata": {
        "id": "Qen8fBUQWssK",
        "colab_type": "code",
        "colab": {}
      },
      "source": [
        "# plot the G/D loss history v.s. Iteration in one plot\n",
        "#++++++++++++++++++++++++++++++++++++++++++++++#\n",
        "#++++++++++++++++++++++++++++++++++++++++++++++#\n",
        "# ============== YOUR CODE HERE ============== # \n",
        "\n",
        "# num_iter = hist_D_L1_losses.size[0]\n",
        "\n",
        "num_iter = []\n",
        "for i in  range(4000):\n",
        "  num_iter.append(i)\n",
        "\n",
        "plt.figure()\n",
        "plt.plot(num_iter, hist_D_L1_losses)\n",
        "plt.plot(num_iter, hist_G_L1_losses)\n",
        "plt.legend(['D Loss', 'G Loss'])\n",
        "plt.xticks(num_iter)\n",
        "plt.xlabel('Iteration')\n",
        "plt.ylabel('Loss')\n",
        "plt.title('Loss History for G and D vs. Iteration')\n",
        "plt.show()\n",
        "\n",
        "#++++++++++++++++++++++++++++++++++++++++++++++#\n",
        "#++++++++++++++++++++++++++++++++++++++++++++++#\n",
        "# =============== END OF CODE ================ #"
      ],
      "execution_count": 0,
      "outputs": []
    },
    {
      "cell_type": "markdown",
      "metadata": {
        "colab_type": "text",
        "id": "ORVrlmSMWLxW"
      },
      "source": [
        "## [5] Visualization\n",
        "\n"
      ]
    },
    {
      "cell_type": "code",
      "metadata": {
        "id": "9P8ijcdHghg5",
        "colab_type": "code",
        "colab": {}
      },
      "source": [
        "# TODO"
      ],
      "execution_count": 0,
      "outputs": []
    }
  ]
}