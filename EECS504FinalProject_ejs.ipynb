{
  "nbformat": 4,
  "nbformat_minor": 0,
  "metadata": {
    "colab": {
      "name": "EECS504FinalProject_dk",
      "provenance": [],
      "collapsed_sections": [],
      "toc_visible": true,
      "machine_shape": "hm",
      "include_colab_link": true
    },
    "kernelspec": {
      "name": "python3",
      "display_name": "Python 3"
    },
    "accelerator": "GPU"
  },
  "cells": [
    {
      "cell_type": "markdown",
      "metadata": {
        "id": "view-in-github",
        "colab_type": "text"
      },
      "source": [
        "<a href=\"https://colab.research.google.com/github/ejshumaker/EECS504Project/blob/work/EECS504FinalProject_ejs.ipynb\" target=\"_parent\"><img src=\"https://colab.research.google.com/assets/colab-badge.svg\" alt=\"Open In Colab\"/></a>"
      ]
    },
    {
      "cell_type": "markdown",
      "metadata": {
        "id": "ix5dQS2rUMlu",
        "colab_type": "text"
      },
      "source": [
        "#EECS 504 Final Project\n",
        "\n",
        "### Bryan Edwards, Demba Komma, Leah Wu, Eric Shumaker\n",
        "#### {bryaned, dbkomma, huiminwu, eshumake} @umich.edu\n"
      ]
    },
    {
      "cell_type": "markdown",
      "metadata": {
        "id": "W_Cst4k4tuBc",
        "colab_type": "text"
      },
      "source": [
        "# Starting\n"
      ]
    },
    {
      "cell_type": "code",
      "metadata": {
        "id": "SHumIO-xt57H",
        "colab_type": "code",
        "outputId": "fd2f8f8c-8d28-4887-f09b-5d8749d44e03",
        "colab": {
          "base_uri": "https://localhost:8080/",
          "height": 68
        }
      },
      "source": [
        "import numpy as np\n",
        "import matplotlib.pyplot as plt\n",
        "from google.colab import output\n",
        "import torch\n",
        "import torchvision\n",
        "from torchvision import datasets, models, transforms\n",
        "from torch.utils.data import DataLoader, Dataset, Subset\n",
        "import torch.nn as nn\n",
        "import torch.optim as optim\n",
        "from torch.autograd import Variable\n",
        "import torch.nn.functional as F\n",
        "from torchsummary import summary\n",
        "import cv2\n",
        "import os\n",
        "import time\n",
        "\n",
        "print(\"PyTorch Version: \",torch.__version__)\n",
        "print(\"Torchvision Version: \",torchvision.__version__)\n",
        "# Detect if we have a GPU available\n",
        "device = torch.device(\"cuda:0\" if torch.cuda.is_available() else \"cpu\")\n",
        "if torch.cuda.is_available():\n",
        "    print(\"Using the GPU!\")\n",
        "else:\n",
        "    print(\"WARNING: Could not find GPU! Using CPU only. If you want to enable GPU, please to go Edit > Notebook Settings > Hardware Accelerator and select GPU.\")"
      ],
      "execution_count": 0,
      "outputs": [
        {
          "output_type": "stream",
          "text": [
            "PyTorch Version:  1.4.0\n",
            "Torchvision Version:  0.5.0\n",
            "Using the GPU!\n"
          ],
          "name": "stdout"
        }
      ]
    },
    {
      "cell_type": "markdown",
      "metadata": {
        "id": "UvXCsWLWuAmp",
        "colab_type": "text"
      },
      "source": [
        "Check which GPU Google has allocated"
      ]
    },
    {
      "cell_type": "code",
      "metadata": {
        "colab_type": "code",
        "outputId": "143a94ad-1dd7-4a88-dccc-7eab8aa08b07",
        "id": "HCnhsRHyJQzc",
        "colab": {
          "base_uri": "https://localhost:8080/",
          "height": 306
        }
      },
      "source": [
        "gpu_info = !nvidia-smi\n",
        "gpu_info = '\\n'.join(gpu_info)\n",
        "if gpu_info.find('failed') >= 0:\n",
        "  print('Select the Runtime → \"Change runtime type\" menu to enable a GPU accelerator, ')\n",
        "  print('and then re-execute this cell.')\n",
        "else:\n",
        "  print(gpu_info)"
      ],
      "execution_count": 0,
      "outputs": [
        {
          "output_type": "stream",
          "text": [
            "Sun Apr 19 13:58:24 2020       \n",
            "+-----------------------------------------------------------------------------+\n",
            "| NVIDIA-SMI 440.64.00    Driver Version: 418.67       CUDA Version: 10.1     |\n",
            "|-------------------------------+----------------------+----------------------+\n",
            "| GPU  Name        Persistence-M| Bus-Id        Disp.A | Volatile Uncorr. ECC |\n",
            "| Fan  Temp  Perf  Pwr:Usage/Cap|         Memory-Usage | GPU-Util  Compute M. |\n",
            "|===============================+======================+======================|\n",
            "|   0  Tesla P100-PCIE...  Off  | 00000000:00:04.0 Off |                    0 |\n",
            "| N/A   40C    P0    26W / 250W |     10MiB / 16280MiB |      0%      Default |\n",
            "+-------------------------------+----------------------+----------------------+\n",
            "                                                                               \n",
            "+-----------------------------------------------------------------------------+\n",
            "| Processes:                                                       GPU Memory |\n",
            "|  GPU       PID   Type   Process name                             Usage      |\n",
            "|=============================================================================|\n",
            "|  No running processes found                                                 |\n",
            "+-----------------------------------------------------------------------------+\n"
          ],
          "name": "stdout"
        }
      ]
    },
    {
      "cell_type": "markdown",
      "metadata": {
        "id": "FZPq8jUEw1zB",
        "colab_type": "text"
      },
      "source": [
        "## Setting up path to training model weights in Drive."
      ]
    },
    {
      "cell_type": "code",
      "metadata": {
        "id": "hQ43QzmRw7kh",
        "colab_type": "code",
        "outputId": "0e0787aa-b65b-4189-cada-c8d17835fdad",
        "colab": {
          "base_uri": "https://localhost:8080/",
          "height": 122
        }
      },
      "source": [
        "from google.colab import drive\n",
        "drive.mount('/content/gdrive')"
      ],
      "execution_count": 0,
      "outputs": [
        {
          "output_type": "stream",
          "text": [
            "Go to this URL in a browser: https://accounts.google.com/o/oauth2/auth?client_id=947318989803-6bn6qk8qdgf4n4g3pfee6491hc0brc4i.apps.googleusercontent.com&redirect_uri=urn%3aietf%3awg%3aoauth%3a2.0%3aoob&response_type=code&scope=email%20https%3a%2f%2fwww.googleapis.com%2fauth%2fdocs.test%20https%3a%2f%2fwww.googleapis.com%2fauth%2fdrive%20https%3a%2f%2fwww.googleapis.com%2fauth%2fdrive.photos.readonly%20https%3a%2f%2fwww.googleapis.com%2fauth%2fpeopleapi.readonly\n",
            "\n",
            "Enter your authorization code:\n",
            "··········\n",
            "Mounted at /content/gdrive\n"
          ],
          "name": "stdout"
        }
      ]
    },
    {
      "cell_type": "markdown",
      "metadata": {
        "id": "PRD96jxQxfAs",
        "colab_type": "text"
      },
      "source": [
        "# Experiment Parameters"
      ]
    },
    {
      "cell_type": "code",
      "metadata": {
        "id": "NV_awA9Cxg7b",
        "colab_type": "code",
        "colab": {}
      },
      "source": [
        "# Experiment Parameters\n",
        "model_save_name = 'classifier_paris.pt'\n",
        "#################################################################\n",
        "############## CHANGE PATH TO YOUR WEIGHTS FOLDER ###############\n",
        "WEIGHTS_PATH = F\"/content/gdrive/My Drive/EECS504/Project/Eric's Weights/{model_save_name}\" \n",
        "#################################################################\n",
        "save_weights = True     # True to save weights after each epoch \n",
        "pretrained = False       # True to load in weights from classifier.pt file\n",
        "paris_data_set = True   # True to use paris dataset else uses VOC\n",
        "white_mask = True       # True for white, False for black\n",
        "debug_mode = True      # True to train with fewer images, False otherwise"
      ],
      "execution_count": 0,
      "outputs": []
    },
    {
      "cell_type": "markdown",
      "metadata": {
        "id": "OnaTmNgP9OXp",
        "colab_type": "text"
      },
      "source": [
        "## [1] Get Paris_StreetView Dataset or VOC 2007 Dataset"
      ]
    },
    {
      "cell_type": "code",
      "metadata": {
        "id": "jz3_U0fj9Nyf",
        "colab_type": "code",
        "colab": {}
      },
      "source": [
        "############ CHANGE PATH TO YOUR DRIVE LOCATION FOR EECS504/Project #############\n",
        "if(paris_data_set):\n",
        "    !unzip -uq \"/content/gdrive/My Drive/EECS504/Project/Paris_StreetView_Dataset/paris_train_original.zip\"\n",
        "    dataset_path = './paris_train_original/'\n",
        "    model_save_name = 'classifier_paris.pt'\n",
        "    WEIGHTS_PATH = F\"/content/gdrive/My Drive/EECS504/Project/Eric's Weights/{model_save_name}\" \n",
        "\n",
        "else:\n",
        "    #!wget https://pjreddie.com/media/files/VOCtrainval_06-Nov-2007.tar\n",
        "    !tar -xf \"/content/gdrive/My Drive/Project/VOC/VOCtrainval_06-Nov-2007.tar\"    \n",
        "    dataset_path = './VOCdevkit/VOC2007/JPEGImages'\n",
        "    model_save_name = 'classifier_VOC.pt'\n",
        "    WEIGHTS_PATH = F\"/content/gdrive/My Drive/Project/dbk/{model_save_name}\" \n",
        "\n",
        "#################################################################################"
      ],
      "execution_count": 0,
      "outputs": []
    },
    {
      "cell_type": "markdown",
      "metadata": {
        "id": "CIVIV1Vnjfia",
        "colab_type": "text"
      },
      "source": [
        "# [1.1] Process images by masking center region"
      ]
    },
    {
      "cell_type": "code",
      "metadata": {
        "id": "vhbb482liisw",
        "colab_type": "code",
        "colab": {}
      },
      "source": [
        "# Create directory structure for dataloader \n",
        "if os.path.exists('./data'):\n",
        "  ! rm -r ./data\n",
        "os.mkdir('./data')\n",
        "os.mkdir('./data/train')\n",
        "os.mkdir('./data/train/sub')\n",
        "os.mkdir('./data/test')\n",
        "os.mkdir('./data/test/sub')\n",
        "train_path = './data/train/sub'\n",
        "test_path = './data/test/sub'"
      ],
      "execution_count": 0,
      "outputs": []
    },
    {
      "cell_type": "code",
      "metadata": {
        "id": "kkGM0nhqnnZ3",
        "colab_type": "code",
        "colab": {}
      },
      "source": [
        "def process_image(img_path, white_mask):\n",
        "    \"\"\"\n",
        "    Resizes and masks image in specified path.\n",
        "\n",
        "    Input:\n",
        "    - img_path: path to image\n",
        "    - mask_color: 1 to set mask to white, \n",
        "                  0 to set mask to black\n",
        "\n",
        "    Output:\n",
        "    - Image of size (454,227,3) containing resized original image in left half and\n",
        "      resized, masked image in right half\n",
        "    \"\"\"\n",
        "    img = cv2.imread(img_path)\n",
        "    img = cv2.resize(img, (256,256)) # Resize image to (227,227,3)\n",
        "\n",
        "    tl = int(256/4)       # top left corner of mask\n",
        "    br = int(256-(256/4)) # bottom right corner of mask\n",
        "\n",
        "    # Create white mask\n",
        "    if white_mask:\n",
        "      mask = np.zeros_like(img)\n",
        "      mask[tl:br, tl:br, :] = 255\n",
        "      masked = cv2.bitwise_or(img, mask)\n",
        "    \n",
        "    # Create black mask\n",
        "    else:\n",
        "      mask = 255 * np.ones_like(img)\n",
        "      mask[tl:br, tl:br, :] = 0\n",
        "      masked = cv2.bitwise_and(img, mask)\n",
        "\n",
        "    # Concatenate original img with masked\n",
        "    cat = np.hstack((img, masked))\n",
        "    return cat"
      ],
      "execution_count": 0,
      "outputs": []
    },
    {
      "cell_type": "code",
      "metadata": {
        "id": "L1-yYWfxzsMH",
        "colab_type": "code",
        "colab": {}
      },
      "source": [
        "# To clean folders\n",
        "if len(os.listdir(train_path)) != 0:\n",
        "  for root, dirs, files in os.walk(train_path):\n",
        "      for img in files:\n",
        "          os.remove(os.path.join(root, img))\n",
        "\n",
        "  for root, dirs, files in os.walk(test_path):\n",
        "      for img in files:\n",
        "          os.remove(os.path.join(root, img))"
      ],
      "execution_count": 0,
      "outputs": []
    },
    {
      "cell_type": "code",
      "metadata": {
        "id": "xhnWO6A0l4F2",
        "colab_type": "code",
        "outputId": "277cf400-fbaa-468b-b227-f1d125e0e0ea",
        "colab": {
          "base_uri": "https://localhost:8080/",
          "height": 85
        }
      },
      "source": [
        "images = []\n",
        "path = dataset_path\n",
        "for filename in os.listdir(path):\n",
        "    img = process_image(os.path.join(path, filename), white_mask)\n",
        "    if img is not None:\n",
        "        images.append(img)\n",
        "\n",
        "# Take last 500 images as test data\n",
        "if(paris_data_set):\n",
        "    train = images[:-4400]\n",
        "    test = images[-4400:]\n",
        "else:\n",
        "    train = images[:-1000]\n",
        "    test = images[-1000:]\n",
        "\n",
        "print('Number of Train Images:',len(train))\n",
        "print('Number of Test Images:',len(test))\n",
        "\n",
        "# Add training images to train directory\n",
        "if len(os.listdir(train_path)) == 0:\n",
        "    for i, img in enumerate(train):\n",
        "        img_path = train_path + '/%d.jpg' % (i + 1)\n",
        "        cv2.imwrite(img_path, img)\n",
        "    print('Train images saved to train directory')\n",
        "else:\n",
        "    print('Please empty {} directory.'.format(train_path))\n",
        "\n",
        "# Add test images to test directory\n",
        "if len(os.listdir(test_path)) == 0:\n",
        "    for i, img in enumerate(test):\n",
        "        img_path = test_path + '/%d.jpg' % (i + 1)\n",
        "        cv2.imwrite(img_path, img)\n",
        "    print('Test images saved to test directory')\n",
        "else:\n",
        "    print('Please empty {} directory.'.format(test_path))"
      ],
      "execution_count": 0,
      "outputs": [
        {
          "output_type": "stream",
          "text": [
            "Number of Train Images: 10500\n",
            "Number of Test Images: 4400\n",
            "Train images saved to train directory\n",
            "Test images saved to test directory\n"
          ],
          "name": "stdout"
        }
      ]
    },
    {
      "cell_type": "markdown",
      "metadata": {
        "colab_type": "text",
        "id": "_x9ySPfbSW_x"
      },
      "source": [
        "## [2] Build dataloaders for train and test"
      ]
    },
    {
      "cell_type": "markdown",
      "metadata": {
        "id": "SVYkDcrbiKIZ",
        "colab_type": "text"
      },
      "source": [
        ""
      ]
    },
    {
      "cell_type": "code",
      "metadata": {
        "colab_type": "code",
        "id": "rJypdoKmSW_x",
        "colab": {}
      },
      "source": [
        "def load_data(path, subfolder, transform, batch_size=1, shuffle=True, debug_mode=True):\n",
        "    \"\"\"\n",
        "    Data loader.\n",
        "\n",
        "    Inputs:\n",
        "    - path: path of the data.\n",
        "    - subfolder: subfolder of the data.\n",
        "    - transform: data transformation.\n",
        "    - batch_size: the size of the batch\n",
        "    - shuffle: if true, shuffle the data\n",
        "\n",
        "    Outputs:\n",
        "    - torch Dataloader\n",
        "    \"\"\"\n",
        "    direc = path + '/' + subfolder\n",
        "    dset = datasets.ImageFolder(direc, transform=transform)\n",
        "\n",
        "    # For debugging faster, truncate data to 2500 images for training and 10 for validating\n",
        "    if subfolder == 'train':\n",
        "      dset_sub = Subset(dset, torch.arange(0, 2500))\n",
        "    elif subfolder == 'test':\n",
        "      dset_sub = Subset(dset, torch.arange(0, 500))\n",
        "\n",
        "    if debug_mode:\n",
        "      dataloader = DataLoader(dset_sub,batch_size=batch_size,shuffle=shuffle)\n",
        "    else: \n",
        "      dataloader = DataLoader(dset,batch_size=batch_size,shuffle=shuffle)\n",
        "    return dataloader"
      ],
      "execution_count": 0,
      "outputs": []
    },
    {
      "cell_type": "code",
      "metadata": {
        "id": "tSYCBtBnurup",
        "colab_type": "code",
        "colab": {}
      },
      "source": [
        "# data_loader\n",
        "transform = transforms.Compose([\n",
        "        transforms.ToTensor(),\n",
        "])\n",
        "train_loader = load_data('./data', 'train', transform, batch_size =1, shuffle=True, debug_mode=debug_mode)\n",
        "test_loader = load_data('./data', 'test', transform, batch_size =10, shuffle=False, debug_mode=debug_mode)\n",
        "\n",
        "#Sample Output used for visualization\n",
        "test = test_loader.__iter__().__next__()[0]\n",
        "img_size = test.size()[2]\n",
        "fixed_y_ = test[:, :, :, 0:img_size]\n",
        "fixed_x_ = test[:, :, :, img_size:]"
      ],
      "execution_count": 0,
      "outputs": []
    },
    {
      "cell_type": "code",
      "metadata": {
        "id": "nZFgUE-Wuxfv",
        "colab_type": "code",
        "outputId": "5209b80d-2020-4f67-b48f-8dbd3d094e7c",
        "colab": {
          "base_uri": "https://localhost:8080/",
          "height": 236
        }
      },
      "source": [
        "# plot sample image\n",
        "example = train_loader.__iter__().__next__()[0][0].numpy().transpose((1, 2, 0))\n",
        "plt.imshow(example)\n",
        "print(np.max(example))\n",
        "plt.show()"
      ],
      "execution_count": 0,
      "outputs": [
        {
          "output_type": "stream",
          "text": [
            "1.0\n"
          ],
          "name": "stdout"
        },
        {
          "output_type": "display_data",
          "data": {
            "image/png": "[encoded data removed]",
            "text/plain": [
              "<Figure size 432x288 with 1 Axes>"
            ]
          },
          "metadata": {
            "tags": [],
            "needs_background": "light"
          }
        }
      ]
    },
    {
      "cell_type": "markdown",
      "metadata": {
        "colab_type": "text",
        "id": "iVfdwj8LSW_5"
      },
      "source": [
        "## [3] Define Architecture"
      ]
    },
    {
      "cell_type": "markdown",
      "metadata": {
        "id": "tTiHiZcqqKJ0",
        "colab_type": "text"
      },
      "source": [
        "## RESNET"
      ]
    },
    {
      "cell_type": "markdown",
      "metadata": {
        "id": "aeae9itO8Bjq",
        "colab_type": "text"
      },
      "source": [
        "3.1 Generator Network"
      ]
    },
    {
      "cell_type": "code",
      "metadata": {
        "id": "BCjNVkYS2IwU",
        "colab_type": "code",
        "colab": {}
      },
      "source": [
        "def get_res_block(dim=128, ksz=3, s=1):\n",
        "  \n",
        "  res = nn.Sequential(\n",
        "                  nn.ReflectionPad2d(ksz//2),\n",
        "                  nn.Conv2d(dim, dim, kernel_size=ksz, stride=s), \n",
        "                  nn.InstanceNorm2d(dim),\n",
        "                  nn.ReLU(inplace = True),\n",
        "                  nn.ReflectionPad2d(ksz//2),\n",
        "                  nn.Conv2d(dim,dim,kernel_size=ksz, stride=s), \n",
        "                  nn.InstanceNorm2d(dim))\n",
        "  return res\n",
        "\n",
        "class Generator(nn.Module):\n",
        "    def __init__(self, in_channels = 3):\n",
        "        super(Generator, self).__init__()\n",
        "\n",
        "        ##############################################################################\n",
        "        # TODO: Build an encoder with the Resnet architecture.           #\n",
        "        ##############################################################################\n",
        "        #self.RP = nn.ReflectionPad2d(0)\n",
        "\n",
        "        self.GC1 = nn.Sequential(\n",
        "                                nn.ReflectionPad2d(4),\n",
        "                                nn.Conv2d(3,32, kernel_size=9, stride=1),\n",
        "                                nn.InstanceNorm2d(32),\n",
        "                                nn.ReLU(inplace=True),\n",
        "                                 \n",
        "                                nn.Conv2d(32,64,kernel_size=3, stride=2, padding = 1),\n",
        "                                nn.InstanceNorm2d(64),\n",
        "                                nn.ReLU(inplace=True),\n",
        "\n",
        "                                nn.Conv2d(64,128, kernel_size=3, stride=2, padding = 1),\n",
        "                                nn.InstanceNorm2d(128),\n",
        "                                nn.ReLU(inplace=True))\n",
        "        \n",
        "        self.GR1 = get_res_block(dim=128)\n",
        "        self.GR2 = get_res_block(dim=128)\n",
        "        self.GR3 = get_res_block(dim=128)\n",
        "        self.GR4 = get_res_block(dim=128)\n",
        "        self.GR5 = get_res_block(dim=128)\n",
        "\n",
        "        self.GC2 = nn.Sequential( \n",
        "                                nn.ConvTranspose2d(128,64,kernel_size=3, stride=2, padding = 1, output_padding=1),\n",
        "                                nn.InstanceNorm2d(64),\n",
        "                                nn.ReLU(inplace=True),\n",
        "\n",
        "                                nn.ConvTranspose2d(64,32, kernel_size=3, stride=2, padding = 1, output_padding=1),\n",
        "                                nn.InstanceNorm2d(32),\n",
        "                                nn.ReLU(inplace=True),\n",
        "                                 \n",
        "                                nn.ReflectionPad2d(4),\n",
        "                                nn.Conv2d(32,3, kernel_size=9, stride=1),\n",
        "                                #nn.InstanceNorm2d(3),\n",
        "                                #nn.Tanh(),\n",
        "                                nn.Sigmoid())\n",
        "        #self._initialize_weights()\n",
        "        \n",
        "\n",
        "    def _initialize_weights(self):\n",
        "        for m in self.modules():\n",
        "            if isinstance(m, nn.Conv2d) or isinstance(m, nn.ConvTranspose2d):\n",
        "                nn.init.kaiming_normal_(m.weight, mode='fan_out', nonlinearity='relu')\n",
        "                if m.bias is not None:\n",
        "                    nn.init.constant_(m.bias, 0)\n",
        "            '''\n",
        "            elif isinstance(m, nn.InstanceNorm2d):\n",
        "                nn.init.constant_(m.weight, 1)\n",
        "                nn.init.constant_(m.bias, 0)\n",
        "            '''\n",
        "\n",
        "    def forward(self, x):\n",
        "        '''\n",
        "        Given an image x, return the encoded latent representation h.\n",
        "\n",
        "        Args:\n",
        "            x: torch.tensor\n",
        "\n",
        "        Return: \n",
        "            out: torch.tensor\n",
        "        '''\n",
        "        #yrf  = self.RP(x)\n",
        "        ygc1 = self.GC1(x)\n",
        "        ygr1 = self.GR1(ygc1) + ygc1\n",
        "        ygr2 = self.GR2(ygr1) + ygr1\n",
        "        ygr3 = self.GR2(ygr2) + ygr2\n",
        "        ygr4 = self.GR2(ygr3) + ygr3\n",
        "        ygr5 = self.GR2(ygr4) + ygr4\n",
        "        out  = self.GC2(ygr5)\n",
        "        return out"
      ],
      "execution_count": 0,
      "outputs": []
    },
    {
      "cell_type": "markdown",
      "metadata": {
        "id": "o1kzV_ML79u3",
        "colab_type": "text"
      },
      "source": [
        ""
      ]
    },
    {
      "cell_type": "code",
      "metadata": {
        "id": "VtgFDDjh7kiy",
        "colab_type": "code",
        "colab": {}
      },
      "source": [
        "# Print out the neural network architectures and activation dimensions.\n",
        "# Verify that your network has the same architecture as the one we printed above.\n",
        "generator = Generator().to(device)\n",
        "#summary(generator, [(3, 256, 256)])"
      ],
      "execution_count": 0,
      "outputs": []
    },
    {
      "cell_type": "markdown",
      "metadata": {
        "id": "3WEkBiq58HYs",
        "colab_type": "text"
      },
      "source": [
        "3.2 Decoder"
      ]
    },
    {
      "cell_type": "code",
      "metadata": {
        "id": "W4RaDCkn7n1-",
        "colab_type": "code",
        "colab": {}
      },
      "source": [
        "class Discriminator(nn.Module):\n",
        "    def __init__(self, in_channels = 6, feat_dim=32):\n",
        "        super(Discriminator, self).__init__()\n",
        "\n",
        "        ##############################################################################\n",
        "        # TODO: Build the decoder as specified above.                                #\n",
        "        ##############################################################################  \n",
        "        self.D_shared = nn.Sequential(\n",
        "                        nn.Conv2d(in_channels, feat_dim, kernel_size=9, stride=1, padding=4),\n",
        "                        nn.InstanceNorm2d(feat_dim), \n",
        "                        nn.LeakyReLU(negative_slope=0.2, inplace=True),\n",
        "\n",
        "                        nn.Conv2d(feat_dim, 64,kernel_size=3, stride=2, padding = 1),\n",
        "                        nn.InstanceNorm2d(64),\n",
        "                        nn.LeakyReLU(negative_slope=0.2, inplace=True),\n",
        "\n",
        "                        nn.Conv2d(64, 128, kernel_size=3, stride=2, padding = 1),\n",
        "                        nn.InstanceNorm2d(128),\n",
        "                        nn.LeakyReLU(negative_slope=0.2, inplace=True),\n",
        "\n",
        "                        nn.Conv2d(128, 256, kernel_size=3, stride=2, padding = 1),\n",
        "                        nn.InstanceNorm2d(256),\n",
        "                        nn.LeakyReLU(negative_slope=0.2, inplace=True))\n",
        "        \n",
        "        self.D_pgan =  nn.Sequential(\n",
        "                        nn.Conv2d(256, 512, kernel_size=3, stride=2, padding = 1),\n",
        "                        nn.InstanceNorm2d(512),\n",
        "                        nn.LeakyReLU(negative_slope=0.2, inplace=True),\n",
        "\n",
        "                        nn.Conv2d(512, 512, kernel_size=3, stride=2, padding = 1),\n",
        "                        nn.InstanceNorm2d(512),\n",
        "                        nn.LeakyReLU(negative_slope=0.2, inplace=True),\n",
        "\n",
        "                        nn.Conv2d(512, 1, kernel_size=3, stride=1, padding = 1))\n",
        "        \n",
        "        self.D_ggan =  nn.Sequential(\n",
        "                        nn.Conv2d(256, 512, kernel_size=3, stride=2, padding = 1),\n",
        "                        nn.InstanceNorm2d(512),\n",
        "                        nn.LeakyReLU(negative_slope=0.2, inplace=True),\n",
        "\n",
        "                        nn.Conv2d(512, 1024, kernel_size=3, stride=2, padding = 1),\n",
        "                        nn.InstanceNorm2d(1024),\n",
        "                        nn.LeakyReLU(negative_slope=0.2, inplace=True),\n",
        "\n",
        "                        nn.Conv2d(1024, 1, kernel_size=3, stride=1, padding = 1))\n",
        "        \n",
        "        #self._initialize_weights()\n",
        "\n",
        "    def _initialize_weights(self):\n",
        "        for m in self.modules():\n",
        "            if isinstance(m, nn.Conv2d):\n",
        "                nn.init.kaiming_normal_(m.weight, mode='fan_out', nonlinearity='leaky_relu')\n",
        "                if m.bias is not None:\n",
        "                    nn.init.constant_(m.bias, 0)\n",
        "            '''\n",
        "            elif isinstance(m, nn.InstanceNorm2d):\n",
        "                nn.init.constant_(m.weight, 1)\n",
        "                nn.init.constant_(m.bias, 0)\n",
        "            '''\n",
        "\n",
        "        \n",
        "    def activate_gradients(self, net_gan=3, cond=False):\n",
        "        \"\"\"\n",
        "        Enable or disable  gradients when computing losses\n",
        "        net_gan = 0  gradients for shared weights\n",
        "        net_gan = 1  gradients for shared patch gan weights\n",
        "        net_gan = 2  gradients for shared global gan weights\n",
        "        net_gan = 3  gradients for all weights\n",
        "        \"\"\"\n",
        "        s_cond, pg_cond, g_cond = cond, cond, cond\n",
        "        if(net_gan == 0):\n",
        "            s_cond, pg_cond, g_cond = s_cond, not pg_cond, not g_cond\n",
        "        elif(net_gan == 1):\n",
        "            s_cond, pg_cond, g_cond = not s_cond, pg_cond, not g_cond\n",
        "        elif(net_gan == 2):\n",
        "            s_cond, pg_cond, g_cond = not s_cond, not pg_cond, g_cond\n",
        "        elif(net_gan == 3):\n",
        "            s_cond, pg_cond, g_cond = s_cond, pg_cond, g_cond\n",
        "        else:\n",
        "            return\n",
        "\n",
        "        for param in self.D_shared.parameters():\n",
        "            param.requires_grad = s_cond\n",
        "        for param in self.D_pgan.parameters():\n",
        "            param.requires_grad = pg_cond\n",
        "        for param in self.D_ggan.parameters():\n",
        "            param.requires_grad = g_cond\n",
        "       \n",
        "     \n",
        "\n",
        "\n",
        "    def forward(self, x):\n",
        "        '''\n",
        "        Given latent representation h, reconstruct an image patch of size 64 x 64.\n",
        "\n",
        "        Args:\n",
        "            x: torch.tensor\n",
        "\n",
        "        Return: \n",
        "            yp, yg\n",
        "            yp: torch.tensor, patch gan output\n",
        "            yg: torch.tensor, global gan output\n",
        "        '''\n",
        "        ys = self.D_shared(x)\n",
        "        yp = self.D_pgan(ys)\n",
        "        yg = self.D_ggan(ys)\n",
        "        return yp, yg"
      ],
      "execution_count": 0,
      "outputs": []
    },
    {
      "cell_type": "code",
      "metadata": {
        "id": "My9PXfbE7snc",
        "colab_type": "code",
        "colab": {}
      },
      "source": [
        "# Print out the neural network architectures and activation dimensions.\n",
        "# Verify that your network has the same architecture as the one we printed above.\n",
        "discriminator = Discriminator().to(device)\n",
        "#summary(discriminator, [(6, 256, 256)])"
      ],
      "execution_count": 0,
      "outputs": []
    },
    {
      "cell_type": "markdown",
      "metadata": {
        "id": "x6wq4mNJ8JyG",
        "colab_type": "text"
      },
      "source": [
        "3.3 U-Net Autoencoder"
      ]
    },
    {
      "cell_type": "code",
      "metadata": {
        "id": "BUibcvzk7xzT",
        "colab_type": "code",
        "colab": {}
      },
      "source": [
        "class InpaintModel(nn.Module):\n",
        "    def __init__(self, lm = [0.8, 0.1, 0.1]):\n",
        "        super(InpaintModel, self).__init__()\n",
        "\n",
        "        self.D = Discriminator()\n",
        "        self.G = Generator()\n",
        "        self.G_L1_Loss = nn.L1Loss()\n",
        "        self.D_PGAN_Loss = nn.BCEWithLogitsLoss()\n",
        "        self.D_GGAN_Loss = nn.BCEWithLogitsLoss()\n",
        "        self.G_Optim = optim.Adam(self.G.parameters(), lr=1e-3)\n",
        "        self.D_PGAN_Optim = optim.Adam(self.D.D_pgan.parameters(), lr = 1e-3)\n",
        "        self.D_GGAN_Optim = optim.Adam(self.D.D_ggan.parameters(), lr = 1e-3)\n",
        "        self.D_SGAN_Optim = optim.Adam(self.D.D_shared.parameters(), lr = 1e-3)\n",
        "        self.x_input = None\n",
        "        self.y_input = None\n",
        "        self.y_fake  = None\n",
        "        self.lm = lm\n",
        "        self.target_true = torch.ones(torch.Size([1, 1, 8, 8])).to(device)\n",
        "        self.target_false = torch.zeros(torch.Size([1, 1, 8, 8])).to(device)\n",
        "\n",
        "\n",
        "    def set_inputs(self, x, y):\n",
        "        self.x_input = x\n",
        "        self.y_input = y\n",
        "\n",
        "    def weight_init(self):\n",
        "        self.D._initialize_weights()\n",
        "        self.G._initialize_weights()\n",
        "    \n",
        "    def forward(self, x = None, y = None):\n",
        "        #print(self.lm)\n",
        "        if(x is not None):\n",
        "            self.x_input = x\n",
        "            self.y_input = y\n",
        "        self.y_fake = self.G(self.x_input)\n",
        "        return self.y_fake\n",
        "\n",
        "    def pgan_disc(self, pred_real, pred_fake):\n",
        "        # train pgan weights of discrimminator\n",
        "        #target_true = torch.ones(pred_real.size()).to(device)\n",
        "        #target_false = torch.zeros(pred_fake.size()).to(device)\n",
        "        loss_d_pgan_fake = self.D_PGAN_Loss(pred_fake, self.target_false) \n",
        "        loss_d_pgan_real = self.D_PGAN_Loss(pred_real, self.target_true)\n",
        "        loss_d_pgan = (loss_d_pgan_fake + loss_d_pgan_real)/2.0\n",
        "        #self.D.activate_gradients(net_gan=1, cond=True)\n",
        "        self.D_PGAN_Optim.zero_grad();\n",
        "        loss_d_pgan.backward(retain_graph = True)\n",
        "        self.D_PGAN_Optim.step()\n",
        "        #print('Hello PGAN')\n",
        "        \n",
        "        return loss_d_pgan\n",
        "\n",
        "    def ggan_disc(self, pred_real, pred_fake):\n",
        "        # train ggan weights of discrimminator\n",
        "        #target_true = torch.ones(pred_real.size()).to(device)\n",
        "        #target_false = torch.zeros(pred_fake.size()).to(device)\n",
        "        loss_d_ggan_fake = self.D_GGAN_Loss(pred_fake, self.target_false) \n",
        "        loss_d_ggan_real = self.D_GGAN_Loss(pred_real, self.target_true)\n",
        "        loss_d_ggan = (loss_d_ggan_fake + loss_d_ggan_real)/2.0\n",
        "        #self.D.activate_gradients(net_gan=2, cond=True)\n",
        "        self.D_GGAN_Optim.zero_grad();\n",
        "        loss_d_ggan.backward(retain_graph = True)\n",
        "        self.D_GGAN_Optim.step()\n",
        "        #print('Hello GGAN')\n",
        "        return loss_d_ggan\n",
        "\n",
        "    def sgan_disc(self, loss_d_ggan, loss_d_pgan):\n",
        "        # train shared weights of discrimminator\n",
        "        loss_d_sgan = loss_d_ggan + loss_d_pgan\n",
        "        #self.D.activate_gradients(net_gan=0, cond=True)\n",
        "        self.D_SGAN_Optim.zero_grad();\n",
        "        loss_d_sgan.backward(retain_graph = True)\n",
        "        self.D_SGAN_Optim.step()\n",
        "        #print('Hello SGAN')\n",
        "        return loss_d_sgan\n",
        "\n",
        "        \n",
        "    def train_networks(self):\n",
        "        self.forward()\n",
        "        \n",
        "        #Train discriminator network\n",
        "        #self.D.activate_gradients(net_gan=3, cond=True) \n",
        "        real_x_fake_y = torch.cat((self.x_input, self.y_fake), dim=1)\n",
        "        real_x_real_y = torch.cat((self.x_input, self.y_input), dim=1)\n",
        "        pred_fake_pgan, pred_fake_ggan = self.D(real_x_fake_y.detach())\n",
        "        pred_real_pgan, pred_real_ggan = self.D(real_x_real_y)\n",
        "\n",
        "        \n",
        "        #Train PGAN, GGAN, SGAN Network\n",
        "        loss_d_pgan = self.pgan_disc(pred_real_pgan, pred_fake_pgan)\n",
        "        loss_d_ggan = self.ggan_disc(pred_real_pgan, pred_fake_pgan)\n",
        "        loss_d_sgan = self.sgan_disc(loss_d_ggan, loss_d_pgan)\n",
        "\n",
        "\n",
        "        #train generator\n",
        "        #first disable discriminator\n",
        "        #self.D.activate_gradients(net_gan=3, cond=False) \n",
        "        loss_g_rec = self.G_L1_Loss(self.y_fake, self.y_input)\n",
        "        net_loss = self.lm[0]*loss_g_rec + self.lm[1]*(1-loss_d_pgan) + self.lm[2]*(1-loss_d_ggan)\n",
        "        self.G_Optim.zero_grad()\n",
        "        net_loss.backward()\n",
        "        self.G_Optim.step()\n",
        "        #print('Train')\n",
        "        #self.D.activate_gradients(net_gan=3, cond=True)\n",
        "\n",
        "        return net_loss, loss_d_pgan, loss_d_ggan\n",
        "    "
      ],
      "execution_count": 0,
      "outputs": []
    },
    {
      "cell_type": "code",
      "metadata": {
        "id": "vioY12bu70ib",
        "colab_type": "code",
        "colab": {}
      },
      "source": [
        "im_gd = InpaintModel().to(device)\n",
        "#summary(im_gd, (3, 256, 256))"
      ],
      "execution_count": 0,
      "outputs": []
    },
    {
      "cell_type": "markdown",
      "metadata": {
        "id": "fPpqbwWQ8RLS",
        "colab_type": "text"
      },
      "source": [
        "3.4 Train Autoencoder"
      ]
    },
    {
      "cell_type": "markdown",
      "metadata": {
        "colab_type": "text",
        "id": "WpQyaM6KWLpR"
      },
      "source": [
        "## [4] Train\n",
        "\n"
      ]
    },
    {
      "cell_type": "code",
      "metadata": {
        "id": "yKYOL8v62KGL",
        "colab_type": "code",
        "colab": {}
      },
      "source": [
        "# Helper function for showing result.\n",
        "def process_image(img):\n",
        "    # return (img.cpu().data.numpy().transpose(1, 2, 0) * (1 / 2) + (1 / 2))\n",
        "    return img.cpu().data.numpy().transpose(1, 2, 0) \n",
        "\n",
        "def show_result(G, x_, y_, num_epoch):\n",
        "    predict_images = G(x_)\n",
        "\n",
        "    fig, ax = plt.subplots(x_.size()[0], 3, figsize=(10,30))\n",
        "\n",
        "    for i in range(x_.size()[0]):\n",
        "        ax[i, 0].get_xaxis().set_visible(False)\n",
        "        ax[i, 0].get_yaxis().set_visible(False)\n",
        "        ax[i, 1].get_xaxis().set_visible(False)\n",
        "        ax[i, 1].get_yaxis().set_visible(False)\n",
        "        ax[i, 2].get_xaxis().set_visible(False)\n",
        "        ax[i, 2].get_yaxis().set_visible(False)\n",
        "        ax[i, 0].cla()\n",
        "        ax[i, 0].imshow(process_image(x_[i]))\n",
        "        ax[i, 1].cla()\n",
        "        ax[i, 1].imshow(process_image(predict_images[i]))\n",
        "        ax[i, 2].cla()\n",
        "        ax[i, 2].imshow(process_image(y_[i]))\n",
        "    \n",
        "    plt.tight_layout()\n",
        "    label_epoch = 'Epoch {0}'.format(num_epoch)\n",
        "    fig.text(0.5, 0, label_epoch, ha='center')\n",
        "    label_input = 'Input'\n",
        "    fig.text(0.18, 1, label_input, ha='center')\n",
        "    label_output = 'Output'\n",
        "    fig.text(0.5, 1, label_output, ha='center')\n",
        "    label_truth = 'Ground truth'\n",
        "    fig.text(0.81, 1, label_truth, ha='center')\n",
        "\n",
        "    plt.show()\n",
        "\n",
        "# Helper function for counting number of trainable parameters.\n",
        "def count_params(model):\n",
        "    '''\n",
        "    Counts the number of trainable parameters in PyTorch.\n",
        "    Args:\n",
        "        model: PyTorch model.\n",
        "    Returns:\n",
        "        num_params: int, number of trainable parameters.\n",
        "    '''\n",
        "    num_params = sum([item.numel() for item in model.parameters() if item.requires_grad])\n",
        "    return num_params"
      ],
      "execution_count": 0,
      "outputs": []
    },
    {
      "cell_type": "code",
      "metadata": {
        "id": "ofpfgs8WV1t-",
        "colab_type": "code",
        "colab": {}
      },
      "source": [
        "def train(model, num_epochs = 50, save_every=5):\n",
        "    hist_D_losses = []\n",
        "    hist_G_losses = []\n",
        "\n",
        "\n",
        "    print('training start!')\n",
        "    start_time = time.time()\n",
        "    for epoch in range(num_epochs):\n",
        "        print('Start training epoch %d' % (epoch + 1))\n",
        "        D_losses = []\n",
        "        G_losses = []\n",
        "        epoch_start_time = time.time()\n",
        "        num_iter = 0\n",
        "\n",
        "        for x_, _ in train_loader:\n",
        "            \n",
        "            y_ = x_[:, :, :, 0:img_size]\n",
        "            x_ = x_[:, :, :, img_size:]\n",
        "                \n",
        "            x_, y_ = Variable(x_.cuda()), Variable(y_.cuda())\n",
        "\n",
        "         \n",
        "            model.set_inputs(x_, y_)\n",
        "            net_loss, loss_d_pgan, loss_d_ggan = model.train_networks()\n",
        "\n",
        "            loss_D = loss_d_pgan + loss_d_ggan\n",
        "            D_losses.append(loss_D)\n",
        "            hist_D_losses.append(loss_D)\n",
        "\n",
        "            loss_G = net_loss \n",
        "            G_losses.append(loss_G)\n",
        "            hist_G_losses.append(loss_G)\n",
        "            num_iter += 1\n",
        "\n",
        "        epoch_end_time = time.time()\n",
        "        per_epoch_ptime = epoch_end_time - epoch_start_time\n",
        "\n",
        "        # Save training parameters\n",
        "        if((epoch % save_every) == 0 or epoch == (num_epochs-1)):\n",
        "            output.clear()\n",
        "            if save_weights:\n",
        "                torch.save(model, WEIGHTS_PATH)\n",
        "\n",
        "        print('[%d/%d] - using time: %.2f' % ((epoch + 1), num_epochs, per_epoch_ptime))\n",
        "        print('loss of discriminator D: %.3f' % (torch.mean(torch.FloatTensor(D_losses))))\n",
        "        print('loss of generator G: %.3f' % (torch.mean(torch.FloatTensor(G_losses))))\n",
        "        print('Sample Image:')\n",
        "        show_result(model.G, Variable(fixed_x_.cuda(), volatile=True), fixed_y_, (epoch+1))\n",
        "\n",
        "    end_time = time.time()\n",
        "    total_ptime = end_time - start_time\n",
        "\n",
        "    return hist_D_losses, hist_G_losses, model.G\n",
        "\n"
      ],
      "execution_count": 0,
      "outputs": []
    },
    {
      "cell_type": "code",
      "metadata": {
        "id": "Uflpj04uV2De",
        "colab_type": "code",
        "outputId": "f9f82bae-754c-46be-fc7d-bc121fd77d68",
        "colab": {
          "base_uri": "https://localhost:8080/",
          "height": 1000
        }
      },
      "source": [
        "# Define network\n",
        "if pretrained:\n",
        "    model = torch.load(WEIGHTS_PATH)\n",
        "    model.to(device)\n",
        "    model.train()\n",
        "else:\n",
        "    model = InpaintModel(lm = [0.995, 0.0025, 0.0025])\n",
        "    model.weight_init()\n",
        "    model.to(device)\n",
        "\n",
        "#Report the architectures of your network\n",
        "print(model.G)\n",
        "print('Number of trainable parameters {}'.format(count_params(model.G)))\n",
        "\n",
        "print(model.D)\n",
        "print('Number of trainable parameters {}'.format(count_params(model.D)))"
      ],
      "execution_count": 0,
      "outputs": [
        {
          "output_type": "stream",
          "text": [
            "Generator(\n",
            "  (GC1): Sequential(\n",
            "    (0): ReflectionPad2d((4, 4, 4, 4))\n",
            "    (1): Conv2d(3, 32, kernel_size=(9, 9), stride=(1, 1))\n",
            "    (2): InstanceNorm2d(32, eps=1e-05, momentum=0.1, affine=False, track_running_stats=False)\n",
            "    (3): ReLU(inplace=True)\n",
            "    (4): Conv2d(32, 64, kernel_size=(3, 3), stride=(2, 2), padding=(1, 1))\n",
            "    (5): InstanceNorm2d(64, eps=1e-05, momentum=0.1, affine=False, track_running_stats=False)\n",
            "    (6): ReLU(inplace=True)\n",
            "    (7): Conv2d(64, 128, kernel_size=(3, 3), stride=(2, 2), padding=(1, 1))\n",
            "    (8): InstanceNorm2d(128, eps=1e-05, momentum=0.1, affine=False, track_running_stats=False)\n",
            "    (9): ReLU(inplace=True)\n",
            "  )\n",
            "  (GR1): Sequential(\n",
            "    (0): ReflectionPad2d((1, 1, 1, 1))\n",
            "    (1): Conv2d(128, 128, kernel_size=(3, 3), stride=(1, 1))\n",
            "    (2): InstanceNorm2d(128, eps=1e-05, momentum=0.1, affine=False, track_running_stats=False)\n",
            "    (3): ReLU(inplace=True)\n",
            "    (4): ReflectionPad2d((1, 1, 1, 1))\n",
            "    (5): Conv2d(128, 128, kernel_size=(3, 3), stride=(1, 1))\n",
            "    (6): InstanceNorm2d(128, eps=1e-05, momentum=0.1, affine=False, track_running_stats=False)\n",
            "  )\n",
            "  (GR2): Sequential(\n",
            "    (0): ReflectionPad2d((1, 1, 1, 1))\n",
            "    (1): Conv2d(128, 128, kernel_size=(3, 3), stride=(1, 1))\n",
            "    (2): InstanceNorm2d(128, eps=1e-05, momentum=0.1, affine=False, track_running_stats=False)\n",
            "    (3): ReLU(inplace=True)\n",
            "    (4): ReflectionPad2d((1, 1, 1, 1))\n",
            "    (5): Conv2d(128, 128, kernel_size=(3, 3), stride=(1, 1))\n",
            "    (6): InstanceNorm2d(128, eps=1e-05, momentum=0.1, affine=False, track_running_stats=False)\n",
            "  )\n",
            "  (GR3): Sequential(\n",
            "    (0): ReflectionPad2d((1, 1, 1, 1))\n",
            "    (1): Conv2d(128, 128, kernel_size=(3, 3), stride=(1, 1))\n",
            "    (2): InstanceNorm2d(128, eps=1e-05, momentum=0.1, affine=False, track_running_stats=False)\n",
            "    (3): ReLU(inplace=True)\n",
            "    (4): ReflectionPad2d((1, 1, 1, 1))\n",
            "    (5): Conv2d(128, 128, kernel_size=(3, 3), stride=(1, 1))\n",
            "    (6): InstanceNorm2d(128, eps=1e-05, momentum=0.1, affine=False, track_running_stats=False)\n",
            "  )\n",
            "  (GR4): Sequential(\n",
            "    (0): ReflectionPad2d((1, 1, 1, 1))\n",
            "    (1): Conv2d(128, 128, kernel_size=(3, 3), stride=(1, 1))\n",
            "    (2): InstanceNorm2d(128, eps=1e-05, momentum=0.1, affine=False, track_running_stats=False)\n",
            "    (3): ReLU(inplace=True)\n",
            "    (4): ReflectionPad2d((1, 1, 1, 1))\n",
            "    (5): Conv2d(128, 128, kernel_size=(3, 3), stride=(1, 1))\n",
            "    (6): InstanceNorm2d(128, eps=1e-05, momentum=0.1, affine=False, track_running_stats=False)\n",
            "  )\n",
            "  (GR5): Sequential(\n",
            "    (0): ReflectionPad2d((1, 1, 1, 1))\n",
            "    (1): Conv2d(128, 128, kernel_size=(3, 3), stride=(1, 1))\n",
            "    (2): InstanceNorm2d(128, eps=1e-05, momentum=0.1, affine=False, track_running_stats=False)\n",
            "    (3): ReLU(inplace=True)\n",
            "    (4): ReflectionPad2d((1, 1, 1, 1))\n",
            "    (5): Conv2d(128, 128, kernel_size=(3, 3), stride=(1, 1))\n",
            "    (6): InstanceNorm2d(128, eps=1e-05, momentum=0.1, affine=False, track_running_stats=False)\n",
            "  )\n",
            "  (GC2): Sequential(\n",
            "    (0): ConvTranspose2d(128, 64, kernel_size=(3, 3), stride=(2, 2), padding=(1, 1), output_padding=(1, 1))\n",
            "    (1): InstanceNorm2d(64, eps=1e-05, momentum=0.1, affine=False, track_running_stats=False)\n",
            "    (2): ReLU(inplace=True)\n",
            "    (3): ConvTranspose2d(64, 32, kernel_size=(3, 3), stride=(2, 2), padding=(1, 1), output_padding=(1, 1))\n",
            "    (4): InstanceNorm2d(32, eps=1e-05, momentum=0.1, affine=False, track_running_stats=False)\n",
            "    (5): ReLU(inplace=True)\n",
            "    (6): ReflectionPad2d((4, 4, 4, 4))\n",
            "    (7): Conv2d(32, 3, kernel_size=(9, 9), stride=(1, 1))\n",
            "    (8): Sigmoid()\n",
            "  )\n",
            ")\n",
            "Number of trainable parameters 1676035\n",
            "Discriminator(\n",
            "  (D_shared): Sequential(\n",
            "    (0): Conv2d(6, 32, kernel_size=(9, 9), stride=(1, 1), padding=(4, 4))\n",
            "    (1): InstanceNorm2d(32, eps=1e-05, momentum=0.1, affine=False, track_running_stats=False)\n",
            "    (2): LeakyReLU(negative_slope=0.2, inplace=True)\n",
            "    (3): Conv2d(32, 64, kernel_size=(3, 3), stride=(2, 2), padding=(1, 1))\n",
            "    (4): InstanceNorm2d(64, eps=1e-05, momentum=0.1, affine=False, track_running_stats=False)\n",
            "    (5): LeakyReLU(negative_slope=0.2, inplace=True)\n",
            "    (6): Conv2d(64, 128, kernel_size=(3, 3), stride=(2, 2), padding=(1, 1))\n",
            "    (7): InstanceNorm2d(128, eps=1e-05, momentum=0.1, affine=False, track_running_stats=False)\n",
            "    (8): LeakyReLU(negative_slope=0.2, inplace=True)\n",
            "    (9): Conv2d(128, 256, kernel_size=(3, 3), stride=(2, 2), padding=(1, 1))\n",
            "    (10): InstanceNorm2d(256, eps=1e-05, momentum=0.1, affine=False, track_running_stats=False)\n",
            "    (11): LeakyReLU(negative_slope=0.2, inplace=True)\n",
            "  )\n",
            "  (D_pgan): Sequential(\n",
            "    (0): Conv2d(256, 512, kernel_size=(3, 3), stride=(2, 2), padding=(1, 1))\n",
            "    (1): InstanceNorm2d(512, eps=1e-05, momentum=0.1, affine=False, track_running_stats=False)\n",
            "    (2): LeakyReLU(negative_slope=0.2, inplace=True)\n",
            "    (3): Conv2d(512, 512, kernel_size=(3, 3), stride=(2, 2), padding=(1, 1))\n",
            "    (4): InstanceNorm2d(512, eps=1e-05, momentum=0.1, affine=False, track_running_stats=False)\n",
            "    (5): LeakyReLU(negative_slope=0.2, inplace=True)\n",
            "    (6): Conv2d(512, 1, kernel_size=(3, 3), stride=(1, 1), padding=(1, 1))\n",
            "  )\n",
            "  (D_ggan): Sequential(\n",
            "    (0): Conv2d(256, 512, kernel_size=(3, 3), stride=(2, 2), padding=(1, 1))\n",
            "    (1): InstanceNorm2d(512, eps=1e-05, momentum=0.1, affine=False, track_running_stats=False)\n",
            "    (2): LeakyReLU(negative_slope=0.2, inplace=True)\n",
            "    (3): Conv2d(512, 1024, kernel_size=(3, 3), stride=(2, 2), padding=(1, 1))\n",
            "    (4): InstanceNorm2d(1024, eps=1e-05, momentum=0.1, affine=False, track_running_stats=False)\n",
            "    (5): LeakyReLU(negative_slope=0.2, inplace=True)\n",
            "    (6): Conv2d(1024, 1, kernel_size=(3, 3), stride=(1, 1), padding=(1, 1))\n",
            "  )\n",
            ")\n",
            "Number of trainable parameters 9856674\n"
          ],
          "name": "stdout"
        }
      ]
    },
    {
      "cell_type": "markdown",
      "metadata": {
        "id": "5i66iXmBwGpA",
        "colab_type": "text"
      },
      "source": [
        "## Load in weights from previous session"
      ]
    },
    {
      "cell_type": "markdown",
      "metadata": {
        "id": "6SVJDWs3JzUh",
        "colab_type": "text"
      },
      "source": [
        "# Training"
      ]
    },
    {
      "cell_type": "code",
      "metadata": {
        "id": "KHQr4rvNV2Mw",
        "colab_type": "code",
        "outputId": "23286105-9ed3-466b-e64f-c4bd94876410",
        "colab": {
          "base_uri": "https://localhost:8080/",
          "height": 164
        }
      },
      "source": [
        "# change_num_epochs\n",
        "hist_D_losses, hist_G_losses, G = train(model, num_epochs = 100, save_every=5)"
      ],
      "execution_count": 0,
      "outputs": [
        {
          "output_type": "error",
          "ename": "NameError",
          "evalue": "ignored",
          "traceback": [
            "\u001b[0;31m---------------------------------------------------------------------------\u001b[0m",
            "\u001b[0;31mNameError\u001b[0m                                 Traceback (most recent call last)",
            "\u001b[0;32m<ipython-input-1-4e5d7390c73b>\u001b[0m in \u001b[0;36m<module>\u001b[0;34m()\u001b[0m\n\u001b[0;32m----> 1\u001b[0;31m \u001b[0mhist_D_losses\u001b[0m\u001b[0;34m,\u001b[0m \u001b[0mhist_G_losses\u001b[0m \u001b[0;34m=\u001b[0m \u001b[0mtrain\u001b[0m\u001b[0;34m(\u001b[0m\u001b[0mmodel\u001b[0m\u001b[0;34m,\u001b[0m \u001b[0mnum_epochs\u001b[0m \u001b[0;34m=\u001b[0m \u001b[0;36m100\u001b[0m\u001b[0;34m,\u001b[0m \u001b[0msave_every\u001b[0m\u001b[0;34m=\u001b[0m\u001b[0;36m5\u001b[0m\u001b[0;34m)\u001b[0m\u001b[0;34m\u001b[0m\u001b[0;34m\u001b[0m\u001b[0m\n\u001b[0m",
            "\u001b[0;31mNameError\u001b[0m: name 'train' is not defined"
          ]
        }
      ]
    },
    {
      "cell_type": "markdown",
      "metadata": {
        "id": "Hg7dC9CCe8xm",
        "colab_type": "text"
      },
      "source": [
        "# Test Function"
      ]
    },
    {
      "cell_type": "code",
      "metadata": {
        "id": "oCXDo0jce-sY",
        "colab_type": "code",
        "colab": {}
      },
      "source": [
        "def random_mask(img, path):\n",
        "    img = cv2.resize(img, (256,256))  \n",
        "    tl = np.random.randint(1, (256-129)) # top left corner of mask\n",
        "    br = int(tl + (256/2)) # bottom right corner of mask\n",
        "\n",
        "    # Create white mask\n",
        "    mask = np.zeros_like(img)\n",
        "    mask[tl:br, tl:br, :] = 255\n",
        "    masked = cv2.bitwise_or(img, mask)\n",
        "\n",
        "    cat = np.hstack((img, masked))\n",
        "    return cat\n",
        "\n",
        "# Create directory structure for dataloader \n",
        "if os.path.exists('./masked'):\n",
        "  ! rm -r ./masked\n",
        "os.mkdir('./masked')\n",
        "os.mkdir('./masked/sub')\n",
        "mask_path = './masked/sub'\n",
        "\n",
        "# load test images\n",
        "test_imgs = []\n",
        "test1 = cv2.imread('/content/paris_train_original/48.860727_2.357188_90_-004.JPG')\n",
        "test_imgs.append(test1)\n",
        "test2 = cv2.imread('/content/paris_train_original/48.867048_2.348918_270_-004.JPG')\n",
        "test_imgs.append(test2)\n",
        "test3 = cv2.imread('/content/paris_train_original/48.860876_2.364573_90_-004.JPG')\n",
        "test_imgs.append(test3)\n",
        "\n",
        "# mask images and store at mask_path\n",
        "masked = []\n",
        "masked.append(random_mask(test1, mask_path))\n",
        "cv2.imwrite(mask_path + '/1.jpg', masked[0])\n",
        "masked.append(random_mask(test2, mask_path))\n",
        "cv2.imwrite(mask_path + '/2.jpg', masked[1])\n",
        "masked.append(random_mask(test3, mask_path))\n",
        "cv2.imwrite(mask_path + '/3.jpg', masked[2])\n",
        "\n",
        "# create dataloader on images in mask_path\n",
        "transform = transforms.Compose([\n",
        "        transforms.ToTensor(),\n",
        "])\n",
        "dset = datasets.ImageFolder('./masked', transform=transform)\n",
        "dataloader = DataLoader(dset, batch_size=3)\n",
        "masked_test = dataloader.__iter__().__next__()[0]\n",
        "img_size = masked_test.size()[2]\n",
        "test_y = masked_test[:, :, :, 0:img_size]\n",
        "test_x = masked_test[:, :, :, img_size:]\n",
        "\n",
        "# display\n",
        "show_result(model.G, test_x.cuda(), test_y, 0)"
      ],
      "execution_count": 0,
      "outputs": []
    },
    {
      "cell_type": "markdown",
      "metadata": {
        "id": "o2tFGTSLWnuT",
        "colab_type": "text"
      },
      "source": [
        "## [5] Visualization"
      ]
    },
    {
      "cell_type": "code",
      "metadata": {
        "id": "tSGwBO5xV2XH",
        "colab_type": "code",
        "colab": {}
      },
      "source": [
        "# plot the G/D loss history vs Iteration in one plot\n",
        "num_iter = []\n",
        "for i in  range(50000):\n",
        "  num_iter.append(i)\n",
        "\n",
        "plt.figure()\n",
        "plt.plot(num_iter, hist_D_losses)\n",
        "plt.plot(num_iter, hist_G_losses)\n",
        "plt.legend(['D Loss', 'G Loss'])\n",
        "plt.xticks(num_iter)\n",
        "plt.xlabel('Iteration')\n",
        "plt.ylabel('Loss')\n",
        "plt.title('Loss History for G and D vs. Iteration')\n",
        "plt.show()"
      ],
      "execution_count": 0,
      "outputs": []
    },
    {
      "cell_type": "code",
      "metadata": {
        "id": "MXlnI9TDvrCu",
        "colab_type": "code",
        "colab": {}
      },
      "source": [
        ""
      ],
      "execution_count": 0,
      "outputs": []
    }
  ]
}